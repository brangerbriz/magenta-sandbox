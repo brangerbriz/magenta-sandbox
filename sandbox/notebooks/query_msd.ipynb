{
 "cells": [
  {
   "cell_type": "markdown",
   "metadata": {},
   "source": [
    "# Query Million Song Dataset\n",
    "\n",
    "If you have not already done so, make sure to run `cache_msd.ipynb` to cache msd to `msd.pickle` before running this notebook."
   ]
  },
  {
   "cell_type": "markdown",
   "metadata": {},
   "source": [
    "## Imports"
   ]
  },
  {
   "cell_type": "code",
   "execution_count": 12,
   "metadata": {
    "collapsed": true
   },
   "outputs": [],
   "source": [
    "import dill as pickle\n",
    "import numpy as np\n",
    "import time, numbers"
   ]
  },
  {
   "cell_type": "markdown",
   "metadata": {},
   "source": [
    "## Utils"
   ]
  },
  {
   "cell_type": "code",
   "execution_count": 7,
   "metadata": {
    "collapsed": true,
    "deletable": true,
    "editable": true
   },
   "outputs": [],
   "source": [
    "def query_dict_array(arr, query):\n",
    "    \n",
    "    if type(query) != list:\n",
    "        query = [query]\n",
    "    \n",
    "    def array_filter(data):\n",
    "        for q in query:\n",
    "            t = 'OR'\n",
    "            if 'type' in q:\n",
    "                if q['type'].upper() == 'AND':\n",
    "                    t = 'AND'    \n",
    "            for key in q:\n",
    "                \n",
    "                if key == 'type':\n",
    "                    continue\n",
    "                \n",
    "                if t == 'OR':\n",
    "                    if type(q[key]) == str or isinstance(q[key], numbers.Number):\n",
    "                        if type(data[key]) == str or isinstance(data[key], numbers.Number):\n",
    "                            if q[key] == data[key]:\n",
    "                                return True\n",
    "                        elif type(data[key]) == list or type(data[key]) == np.ndarray:\n",
    "                            if q[key] in data[key]:\n",
    "                                return True\n",
    "                    elif type (q[key]) == list:\n",
    "                        for v in q[key]:\n",
    "                            if type(data[key]) == str or isinstance(v, numbers.Number):\n",
    "                                if v == data[key]:\n",
    "                                    return True\n",
    "                            elif type(data[key]) == list or type(data[key]) == np.ndarray:\n",
    "                                if v in data[key]:\n",
    "                                    return True\n",
    "                    elif callable(q[key]):\n",
    "                        if q[key](data[key]):\n",
    "                            return True\n",
    "                else:\n",
    "                    if type(q[key]) == str or isinstance(q[key], numbers.Number):\n",
    "                        if type(data[key]) == str or isinstance(data[key], numbers.Number):\n",
    "                            if q[key] != data[key]:\n",
    "                                return False\n",
    "                        elif type(data[key]) == list or type(data[key]) == np.ndarray:\n",
    "                            if q[key] not in data[key]:\n",
    "                                return False\n",
    "                    elif type (q[key]) == list:\n",
    "                        for v in q[key]:\n",
    "                            if type(data[key]) == str or isinstance(v, numbers.Number):\n",
    "                                if v != data[key]:\n",
    "                                    return False\n",
    "                            elif type(data[key]) == list or type(data[key]) == np.ndarray:\n",
    "                                if v not in data[key]:\n",
    "                                    return False\n",
    "                    elif callable(q[key]):\n",
    "                        if not q[key](data[key]):\n",
    "                            return False\n",
    "            if t == 'AND':\n",
    "                return True\n",
    "        return False\n",
    "\n",
    "    return filter(array_filter, arr)"
   ]
  },
  {
   "cell_type": "markdown",
   "metadata": {},
   "source": [
    "## Load MSD Cache"
   ]
  },
  {
   "cell_type": "code",
   "execution_count": 8,
   "metadata": {
    "collapsed": false
   },
   "outputs": [
    {
     "name": "stdout",
     "output_type": "stream",
     "text": [
      "Loaded in 10.47 seconds\n"
     ]
    }
   ],
   "source": [
    "start_time = time.time()\n",
    "with open('msd.pickle', 'r') as f:\n",
    "    msd = pickle.load(f)\n",
    "print('Loaded in {:.2f} seconds'.format(time.time() - start_time))"
   ]
  },
  {
   "cell_type": "markdown",
   "metadata": {},
   "source": [
    "## Query dataset"
   ]
  },
  {
   "cell_type": "code",
   "execution_count": 13,
   "metadata": {
    "collapsed": false
   },
   "outputs": [
    {
     "name": "stdout",
     "output_type": "stream",
     "text": [
      "1755\n"
     ]
    }
   ],
   "source": [
    "query = {\n",
    "    'type': 'AND',\n",
    "    'song_hotttnesss': lambda hotttnesss: hotttnesss > 0.5,\n",
    "    'artist_terms': ['punk'],\n",
    "  }\n",
    "\n",
    "results = query_dict_array(msd, query)\n",
    "print(len(results))\n",
    "# test = list([r['artist_terms'].tolist() for r in results])"
   ]
  }
 ],
 "metadata": {
  "kernelspec": {
   "display_name": "magenta-sandbox",
   "language": "python",
   "name": "magenta-sandbox"
  },
  "language_info": {
   "codemirror_mode": {
    "name": "ipython",
    "version": 2
   },
   "file_extension": ".py",
   "mimetype": "text/x-python",
   "name": "python",
   "nbconvert_exporter": "python",
   "pygments_lexer": "ipython2",
   "version": "2.7.12"
  }
 },
 "nbformat": 4,
 "nbformat_minor": 2
}
