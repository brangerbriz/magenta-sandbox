{
 "cells": [
  {
   "cell_type": "markdown",
   "metadata": {
    "deletable": true,
    "editable": true
   },
   "source": [
    "# Query Million Song Dataset\n",
    "\n",
    "If you have not already done so, make sure to run `cache_msd.ipynb` to cache msd to `msd.pickle` before running this notebook."
   ]
  },
  {
   "cell_type": "markdown",
   "metadata": {
    "deletable": true,
    "editable": true
   },
   "source": [
    "## Imports"
   ]
  },
  {
   "cell_type": "code",
   "execution_count": 10,
   "metadata": {
    "collapsed": true,
    "deletable": true,
    "editable": true
   },
   "outputs": [],
   "source": [
    "import dill as pickle\n",
    "import numpy as np\n",
    "import time, numbers, os, pdb\n",
    "import shutil"
   ]
  },
  {
   "cell_type": "markdown",
   "metadata": {
    "deletable": true,
    "editable": true
   },
   "source": [
    "## Utils"
   ]
  },
  {
   "cell_type": "code",
   "execution_count": 23,
   "metadata": {
    "collapsed": true,
    "deletable": true,
    "editable": true
   },
   "outputs": [],
   "source": [
    "def query_dict_array(arr, query):\n",
    "    \n",
    "    if type(query) != list:\n",
    "        query = [query]\n",
    "    \n",
    "    def array_filter(data):\n",
    "        for q in query:\n",
    "            t = 'OR'\n",
    "            if 'type' in q:\n",
    "                if q['type'].upper() == 'AND':\n",
    "                    t = 'AND'    \n",
    "            for key in q:\n",
    "                \n",
    "                if key == 'type':\n",
    "                    continue\n",
    "                \n",
    "                if t == 'OR':\n",
    "                    if type(q[key]) == str or isinstance(q[key], numbers.Number):\n",
    "                        if type(data[key]) == str or isinstance(data[key], numbers.Number):\n",
    "                            if q[key] == data[key]:\n",
    "                                return True\n",
    "                        elif type(data[key]) == list or type(data[key]) == np.ndarray:\n",
    "                            if q[key] in data[key]:\n",
    "                                return True\n",
    "                    elif type (q[key]) == list:\n",
    "                        for v in q[key]:\n",
    "                            if type(data[key]) == str or isinstance(v, numbers.Number):\n",
    "                                if v == data[key]:\n",
    "                                    return True\n",
    "                            elif type(data[key]) == list or type(data[key]) == np.ndarray:\n",
    "                                if v in data[key]:\n",
    "                                    return True\n",
    "                    elif callable(q[key]):\n",
    "                        if q[key](data[key]):\n",
    "                            return True\n",
    "                else:\n",
    "                    if type(q[key]) == str or isinstance(q[key], numbers.Number):\n",
    "                        if type(data[key]) == str or isinstance(data[key], numbers.Number):\n",
    "                            if q[key] != data[key]:\n",
    "                                return False\n",
    "                        elif type(data[key]) == list or type(data[key]) == np.ndarray:\n",
    "                            if q[key] not in data[key]:\n",
    "                                return False\n",
    "                    elif type (q[key]) == list:\n",
    "                        for v in q[key]:\n",
    "                            if type(data[key]) == str or isinstance(v, numbers.Number):\n",
    "                                if v != data[key]:\n",
    "                                    return False\n",
    "                            elif type(data[key]) == list or type(data[key]) == np.ndarray:\n",
    "                                if v not in data[key]:\n",
    "                                    return False\n",
    "                    elif callable(q[key]):\n",
    "                        if not q[key](data[key]):\n",
    "                            return False\n",
    "            if t == 'AND':\n",
    "                return True\n",
    "        return False\n",
    "\n",
    "    return filter(array_filter, arr)\n",
    "\n",
    "def create_symlink_dir(paths, dirname, file_limit_per_track=None):\n",
    "    '''Takes a list of msd paths and creates a new directory \n",
    "       dirname with symbolic links to the files pointed to by paths.'''\n",
    "    \n",
    "    # delete dirname if it exists\n",
    "    if os.path.isdir(dirname):\n",
    "        shutil.rmtree(dirname)\n",
    "    \n",
    "    # create dirname if it doesn't exist\n",
    "    if not os.path.isdir(dirname):\n",
    "        os.mkdir(dirname)\n",
    "        \n",
    "    dupes = 0\n",
    "    for path in paths:\n",
    "        if os.path.exists(path):\n",
    "            for i, filename in enumerate(os.listdir(path)):\n",
    "                if file_limit_per_track != None and i == file_limit_per_track:\n",
    "                    break\n",
    "                if os.path.exists(os.path.join(dirname, filename)):\n",
    "                    dupes = dupes + 1\n",
    "                    continue\n",
    "                os.symlink(os.path.join(path, filename), os.path.join(dirname, filename))\n",
    "    print('found {} duplicate midi files'.format(dupes))"
   ]
  },
  {
   "cell_type": "markdown",
   "metadata": {
    "deletable": true,
    "editable": true
   },
   "source": [
    "## Load MSD Cache"
   ]
  },
  {
   "cell_type": "code",
   "execution_count": 3,
   "metadata": {
    "collapsed": false,
    "deletable": true,
    "editable": true
   },
   "outputs": [
    {
     "name": "stdout",
     "output_type": "stream",
     "text": [
      "Loaded in 9.96 seconds\n"
     ]
    }
   ],
   "source": [
    "start_time = time.time()\n",
    "with open('msd.pickle', 'r') as f:\n",
    "    msd = pickle.load(f)\n",
    "print('Loaded in {:.2f} seconds'.format(time.time() - start_time))"
   ]
  },
  {
   "cell_type": "markdown",
   "metadata": {
    "deletable": true,
    "editable": true
   },
   "source": [
    "## Query dataset"
   ]
  },
  {
   "cell_type": "markdown",
   "metadata": {
    "deletable": true,
    "editable": true
   },
   "source": [
    "Below are some examples of AND and OR million song dataset queries that can be made against the cached msd dataset."
   ]
  },
  {
   "cell_type": "code",
   "execution_count": 33,
   "metadata": {
    "collapsed": false,
    "deletable": true,
    "editable": true
   },
   "outputs": [
    {
     "name": "stdout",
     "output_type": "stream",
     "text": [
      "14304\n"
     ]
    }
   ],
   "source": [
    "## All songs by artists w/ terms 'jazz' AND a hotttnesss greater than 0.5\n",
    "query = {\n",
    "    'song_hotttnesss': lambda hotttnesss: hotttnesss > 0.6,\n",
    "    'artist_terms': ['electronic'],\n",
    "    'song_year': lambda year: year > 1990,\n",
    "    'type': 'AND'\n",
    "}\n",
    "\n",
    "results = query_dict_array(msd, query)"
   ]
  },
  {
   "cell_type": "markdown",
   "metadata": {
    "deletable": true,
    "editable": true
   },
   "source": [
    "Once the query is complete, lets create a new directory and populate it with symlinks to the files pointed to by the results."
   ]
  },
  {
   "cell_type": "code",
   "execution_count": 32,
   "metadata": {
    "collapsed": false,
    "deletable": true,
    "editable": true
   },
   "outputs": [
    {
     "name": "stdout",
     "output_type": "stream",
     "text": [
      "found 4420 duplicate midi files\n",
      "symlinks created in directory: test\n"
     ]
    }
   ],
   "source": [
    "msd_path = '/home/bbpwn2/Documents/code/midi-dataset/data/lmd_matched/{}'\n",
    "symlink_dir = 'test'\n",
    "tracks = [msd_path.format(r['path']) for r in results]\n",
    "create_symlink_dir(tracks, symlink_dir, file_limit_per_track=1)\n",
    "print('symlinks created in directory: {}'.format(symlink_dir))"
   ]
  },
  {
   "cell_type": "code",
   "execution_count": null,
   "metadata": {
    "collapsed": true,
    "deletable": true,
    "editable": true
   },
   "outputs": [],
   "source": []
  }
 ],
 "metadata": {
  "kernelspec": {
   "display_name": "magenta-sandbox",
   "language": "python",
   "name": "magenta-sandbox"
  },
  "language_info": {
   "codemirror_mode": {
    "name": "ipython",
    "version": 2
   },
   "file_extension": ".py",
   "mimetype": "text/x-python",
   "name": "python",
   "nbconvert_exporter": "python",
   "pygments_lexer": "ipython2",
   "version": "2.7.12"
  }
 },
 "nbformat": 4,
 "nbformat_minor": 2
}
