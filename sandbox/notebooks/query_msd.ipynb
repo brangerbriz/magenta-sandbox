{
 "cells": [
  {
   "cell_type": "markdown",
   "metadata": {
    "deletable": true,
    "editable": true
   },
   "source": [
    "# Query Million Song Dataset\n",
    "\n",
    "If you have not already done so, make sure to run `cache_msd.ipynb` to cache msd to `msd.pickle` before running this notebook."
   ]
  },
  {
   "cell_type": "markdown",
   "metadata": {
    "deletable": true,
    "editable": true
   },
   "source": [
    "## Imports"
   ]
  },
  {
   "cell_type": "code",
   "execution_count": 1,
   "metadata": {
    "collapsed": false,
    "deletable": true,
    "editable": true
   },
   "outputs": [],
   "source": [
    "import sys\n",
    "sys.path.append('../python')\n",
    "\n",
    "import utils, os, time\n",
    "import dill as pickle"
   ]
  },
  {
   "cell_type": "markdown",
   "metadata": {
    "deletable": true,
    "editable": true
   },
   "source": [
    "## Load MSD Cache"
   ]
  },
  {
   "cell_type": "code",
   "execution_count": 2,
   "metadata": {
    "collapsed": false,
    "deletable": true,
    "editable": true
   },
   "outputs": [
    {
     "name": "stdout",
     "output_type": "stream",
     "text": [
      "Loaded in 10.63 seconds\n"
     ]
    }
   ],
   "source": [
    "start_time = time.time()\n",
    "with open('../../data/msd.pickle', 'r') as f:\n",
    "    msd = pickle.load(f)\n",
    "print('Loaded in {:.2f} seconds'.format(time.time() - start_time))"
   ]
  },
  {
   "cell_type": "markdown",
   "metadata": {
    "deletable": true,
    "editable": true
   },
   "source": [
    "## Query dataset\n",
    "Below are some examples of AND and OR million song dataset queries that can be made against the cached msd dataset."
   ]
  },
  {
   "cell_type": "code",
   "execution_count": 3,
   "metadata": {
    "collapsed": false,
    "deletable": true,
    "editable": true
   },
   "outputs": [
    {
     "name": "stdout",
     "output_type": "stream",
     "text": [
      "6596 results found\n"
     ]
    }
   ],
   "source": [
    "## All songs by artists w/ terms 'jazz' AND a hotttnesss greater than 0.5\n",
    "query = {\n",
    "    'song_year': lambda year: year > 2000,\n",
    "}\n",
    "\n",
    "results = utils.query_dict_array(msd, query)\n",
    "print('{} results found'.format(len(results)))\n",
    "results = msd"
   ]
  },
  {
   "cell_type": "markdown",
   "metadata": {
    "deletable": true,
    "editable": true
   },
   "source": [
    "Once the query is complete, lets create a new directory and populate it with symlinks to the files pointed to by the results."
   ]
  },
  {
   "cell_type": "code",
   "execution_count": 4,
   "metadata": {
    "collapsed": false,
    "deletable": true,
    "editable": true
   },
   "outputs": [],
   "source": [
    "msd_path = os.path.expanduser('~') + '/Documents/code/midi-dataset/data/lmd_matched/{}'\n",
    "symlink_dir = '../../data/query_symlinks'"
   ]
  },
  {
   "cell_type": "code",
   "execution_count": 5,
   "metadata": {
    "collapsed": false,
    "deletable": true,
    "editable": true
   },
   "outputs": [
    {
     "name": "stdout",
     "output_type": "stream",
     "text": [
      "found 11601 duplicate midi files\n",
      "symlinks created in directory: ../../data/query_symlinks\n"
     ]
    }
   ],
   "source": [
    "tracks = [msd_path.format(r['path']) for r in results]\n",
    "utils.create_symlink_dir(tracks, symlink_dir, file_limit_per_track=1)\n",
    "print('symlinks created in directory: {}'.format(symlink_dir))"
   ]
  }
 ],
 "metadata": {
  "kernelspec": {
   "display_name": "magenta-sandbox",
   "language": "python",
   "name": "magenta-sandbox"
  },
  "language_info": {
   "codemirror_mode": {
    "name": "ipython",
    "version": 2
   },
   "file_extension": ".py",
   "mimetype": "text/x-python",
   "name": "python",
   "nbconvert_exporter": "python",
   "pygments_lexer": "ipython2",
   "version": "2.7.12"
  }
 },
 "nbformat": 4,
 "nbformat_minor": 2
}
