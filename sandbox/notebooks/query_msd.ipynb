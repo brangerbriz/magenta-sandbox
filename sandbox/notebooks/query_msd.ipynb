{
 "cells": [
  {
   "cell_type": "markdown",
   "metadata": {
    "deletable": true,
    "editable": true
   },
   "source": [
    "# Query Million Song Dataset\n",
    "\n",
    "If you have not already done so, make sure to run `cache_msd.ipynb` to cache msd to `msd.pickle` before running this notebook."
   ]
  },
  {
   "cell_type": "markdown",
   "metadata": {
    "deletable": true,
    "editable": true
   },
   "source": [
    "## Imports"
   ]
  },
  {
   "cell_type": "code",
   "execution_count": 3,
   "metadata": {
    "collapsed": true,
    "deletable": true,
    "editable": true
   },
   "outputs": [],
   "source": [
    "import sys\n",
    "sys.path.append('../python')\n",
    "\n",
    "import utils\n",
    "import dill as pickle\n",
    "import time"
   ]
  },
  {
   "cell_type": "markdown",
   "metadata": {
    "deletable": true,
    "editable": true
   },
   "source": [
    "## Load MSD Cache"
   ]
  },
  {
   "cell_type": "code",
   "execution_count": 4,
   "metadata": {
    "collapsed": false,
    "deletable": true,
    "editable": true
   },
   "outputs": [
    {
     "name": "stdout",
     "output_type": "stream",
     "text": [
      "Loaded in 9.96 seconds\n"
     ]
    }
   ],
   "source": [
    "start_time = time.time()\n",
    "with open('msd.pickle', 'r') as f:\n",
    "    msd = pickle.load(f)\n",
    "print('Loaded in {:.2f} seconds'.format(time.time() - start_time))"
   ]
  },
  {
   "cell_type": "markdown",
   "metadata": {
    "deletable": true,
    "editable": true
   },
   "source": [
    "## Query dataset"
   ]
  },
  {
   "cell_type": "markdown",
   "metadata": {
    "deletable": true,
    "editable": true
   },
   "source": [
    "Below are some examples of AND and OR million song dataset queries that can be made against the cached msd dataset."
   ]
  },
  {
   "cell_type": "code",
   "execution_count": 5,
   "metadata": {
    "collapsed": false,
    "deletable": true,
    "editable": true
   },
   "outputs": [],
   "source": [
    "## All songs by artists w/ terms 'jazz' AND a hotttnesss greater than 0.5\n",
    "query = {\n",
    "    'song_hotttnesss': lambda hotttnesss: hotttnesss > 0.6,\n",
    "    'artist_terms': ['electronic'],\n",
    "    'song_year': lambda year: year > 1990,\n",
    "    'type': 'AND'\n",
    "}\n",
    "\n",
    "results = utils.query_dict_array(msd, query)"
   ]
  },
  {
   "cell_type": "markdown",
   "metadata": {
    "deletable": true,
    "editable": true
   },
   "source": [
    "Once the query is complete, lets create a new directory and populate it with symlinks to the files pointed to by the results."
   ]
  },
  {
   "cell_type": "code",
   "execution_count": 7,
   "metadata": {
    "collapsed": false,
    "deletable": true,
    "editable": true
   },
   "outputs": [],
   "source": [
    "msd_path = '/home/bbpwn2/Documents/code/midi-dataset/data/lmd_matched/{}'\n",
    "symlink_dir = 'symlink_test'"
   ]
  },
  {
   "cell_type": "code",
   "execution_count": null,
   "metadata": {
    "collapsed": true
   },
   "outputs": [],
   "source": [
    "tracks = [msd_path.format(r['path']) for r in results]\n",
    "utils.create_symlink_dir(tracks, symlink_dir, file_limit_per_track=1)\n",
    "print('symlinks created in directory: {}'.format(symlink_dir))"
   ]
  }
 ],
 "metadata": {
  "kernelspec": {
   "display_name": "magenta-sandbox",
   "language": "python",
   "name": "magenta-sandbox"
  },
  "language_info": {
   "codemirror_mode": {
    "name": "ipython",
    "version": 2
   },
   "file_extension": ".py",
   "mimetype": "text/x-python",
   "name": "python",
   "nbconvert_exporter": "python",
   "pygments_lexer": "ipython2",
   "version": "2.7.12"
  }
 },
 "nbformat": 4,
 "nbformat_minor": 2
}
