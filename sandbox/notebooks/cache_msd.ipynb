{
 "cells": [
  {
   "cell_type": "markdown",
   "metadata": {},
   "source": [
    "# Cache Million Song Dataset\n",
    "\n",
    "This notebook is used to load, parse, and cache MSD into an array of dicts w/ useful information/features for use with other scripts and notebooks. Saves this cached file to `msd.pickle`."
   ]
  },
  {
   "cell_type": "markdown",
   "metadata": {},
   "source": [
    "## Imports"
   ]
  },
  {
   "cell_type": "code",
   "execution_count": 29,
   "metadata": {
    "collapsed": true
   },
   "outputs": [],
   "source": [
    "import sys\n",
    "sys.path.append('../../MSongsDB/PythonSrc') \n",
    "\n",
    "import dill as pickle\n",
    "import time, glob, os\n",
    "from multiprocessing import Pool as ThreadPool\n",
    "from hdf5_getters import *"
   ]
  },
  {
   "cell_type": "markdown",
   "metadata": {},
   "source": [
    "## Utils"
   ]
  },
  {
   "cell_type": "code",
   "execution_count": 30,
   "metadata": {
    "collapsed": true
   },
   "outputs": [],
   "source": [
    "def msd_id_to_dirs(msd_id):\n",
    "    \"\"\"Given an MSD ID, generate the path prefix.\n",
    "    E.g. TRABCD12345678 -> A/B/C/TRABCD12345678\"\"\"\n",
    "    return os.path.join(msd_id[2], msd_id[3], msd_id[4], msd_id)\n",
    "\n",
    "def process_h5(h5):\n",
    "    h5 = open_h5_file_read(h5)\n",
    "    parsed = parse_h5(h5)\n",
    "    h5.close()\n",
    "    return parsed\n",
    "\n",
    "def parse_h5(h5):\n",
    "    return {\n",
    "        'path': msd_id_to_dirs(get_song_id(h5)),\n",
    "        'audio_md5': get_audio_md5(h5),\n",
    "        'song_year': get_year(h5),\n",
    "        'song_title': get_title(h5),\n",
    "        'song_id': get_song_id(h5),\n",
    "        'song_time_signature': get_time_signature(h5),\n",
    "        'song_time_signature_confidence': get_time_signature_confidence(h5),\n",
    "        'song_tempo': get_tempo(h5),\n",
    "        'song_key': get_key(h5),\n",
    "        'song_key_confidence': get_key_confidence(h5),\n",
    "        'song_mode': get_mode(h5),\n",
    "        'song_mode_confidence': get_mode_confidence(h5),\n",
    "        'song_loudness': get_loudness(h5),\n",
    "        'song_energy': get_energy(h5),\n",
    "        'song_duration': get_duration(h5),\n",
    "        'song_danceability': get_danceability(h5),\n",
    "        'song_hotttnesss': get_song_hotttnesss(h5),\n",
    "        'song_segments_start': get_segments_start(h5),\n",
    "        'song_segments_confidence': get_segments_confidence(h5),\n",
    "        'song_sections_start': get_sections_start(h5),\n",
    "        'song_sections_confidence': get_sections_confidence(h5),\n",
    "        'artist_id': get_artist_id(h5),\n",
    "        'artist_mbid': get_artist_mbid(h5),\n",
    "        'artist_name': get_artist_name(h5),\n",
    "        'artist_terms': get_artist_terms(h5),\n",
    "        'artist_terms_frequency': get_artist_terms_freq(h5),\n",
    "        'artist_terms_weight': get_artist_terms_weight(h5),\n",
    "        'artist_mbtags': get_artist_mbtags(h5),\n",
    "        'artist_hotttnesss': get_artist_hotttnesss(h5),\n",
    "        'artist_familiarity': get_artist_familiarity(h5),\n",
    "        'artist_location': get_artist_location(h5)\n",
    "    }"
   ]
  },
  {
   "cell_type": "markdown",
   "metadata": {},
   "source": [
    "## Load, parse, and cache MSD"
   ]
  },
  {
   "cell_type": "code",
   "execution_count": 31,
   "metadata": {
    "collapsed": false
   },
   "outputs": [],
   "source": [
    "h5_dir = '/home/bbpwn2/Documents/code/midi-dataset/data/lmd_matched_h5'\n",
    "h5_files = glob.glob('{}/*/*/*/*.h5'.format(h5_dir))\n",
    "start_time = time.time()"
   ]
  },
  {
   "cell_type": "markdown",
   "metadata": {},
   "source": [
    "Singlethreaded loading"
   ]
  },
  {
   "cell_type": "code",
   "execution_count": 32,
   "metadata": {
    "collapsed": true
   },
   "outputs": [],
   "source": [
    "# msd = []\n",
    "# for i, h5 in enumerate(h5_files):\n",
    "#     meta.append(process_h5(h5))\n",
    "#     if i % 100 == 0:\n",
    "#         print(i)"
   ]
  },
  {
   "cell_type": "markdown",
   "metadata": {},
   "source": [
    "Multithreaded loading"
   ]
  },
  {
   "cell_type": "code",
   "execution_count": 33,
   "metadata": {
    "collapsed": false
   },
   "outputs": [],
   "source": [
    "num_threads = 8\n",
    "pool = ThreadPool(num_threads)\n",
    "msd = pool.map(process_h5, h5_files)"
   ]
  },
  {
   "cell_type": "markdown",
   "metadata": {},
   "source": [
    "Load/save from pickle"
   ]
  },
  {
   "cell_type": "code",
   "execution_count": 34,
   "metadata": {
    "collapsed": false
   },
   "outputs": [],
   "source": [
    "## Uncomment to save msd as pickle\n",
    "with open('msd.pickle', 'w') as f:\n",
    "    pickle.dump(msd, f)\n",
    "\n",
    "# with open('msd.pickle', 'r') as f:\n",
    "#     msd = pickle.load(f)"
   ]
  },
  {
   "cell_type": "code",
   "execution_count": 35,
   "metadata": {
    "collapsed": false
   },
   "outputs": [
    {
     "name": "stdout",
     "output_type": "stream",
     "text": [
      "Loaded in 145.92 seconds\n"
     ]
    }
   ],
   "source": [
    "print('Finished in {:.2f} seconds'.format(time.time() - start_time))"
   ]
  }
 ],
 "metadata": {
  "kernelspec": {
   "display_name": "magenta-sandbox",
   "language": "python",
   "name": "magenta-sandbox"
  },
  "language_info": {
   "codemirror_mode": {
    "name": "ipython",
    "version": 2
   },
   "file_extension": ".py",
   "mimetype": "text/x-python",
   "name": "python",
   "nbconvert_exporter": "python",
   "pygments_lexer": "ipython2",
   "version": "2.7.12"
  }
 },
 "nbformat": 4,
 "nbformat_minor": 2
}
