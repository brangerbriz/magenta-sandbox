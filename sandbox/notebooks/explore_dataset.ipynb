{
 "cells": [
  {
   "cell_type": "code",
   "execution_count": 1,
   "metadata": {
    "collapsed": false
   },
   "outputs": [],
   "source": [
    "import sys\n",
    "sys.path.append('/home/bbpwn/Documents/code/MSongsDB/PythonSrc') \n",
    "\n",
    "import dill as pickle\n",
    "import numbers\n",
    "import operator\n",
    "import time\n",
    "import pdb\n",
    "import os\n",
    "import glob\n",
    "import h5py\n",
    "import numpy as np\n",
    "import matplotlib.pyplot as plt\n",
    "from multiprocessing import Pool as ThreadPool\n",
    "from hdf5_getters import *"
   ]
  },
  {
   "cell_type": "code",
   "execution_count": 2,
   "metadata": {
    "collapsed": false
   },
   "outputs": [],
   "source": [
    "def msd_id_to_dirs(msd_id):\n",
    "    \"\"\"Given an MSD ID, generate the path prefix.\n",
    "    E.g. TRABCD12345678 -> A/B/C/TRABCD12345678\"\"\"\n",
    "    return os.path.join(msd_id[2], msd_id[3], msd_id[4], msd_id)\n",
    "\n",
    "def process_h5(h5):\n",
    "    h5 = open_h5_file_read(h5)\n",
    "    parsed = parse_h5(h5)\n",
    "    h5.close()\n",
    "    return parsed\n",
    "\n",
    "def parse_h5(h5):\n",
    "    return {\n",
    "        'path': msd_id_to_dirs(get_song_id(h5)),\n",
    "        'audio_md5': get_audio_md5(h5),\n",
    "        'song_year': get_year(h5),\n",
    "        'song_title': get_title(h5),\n",
    "        'song_id': get_song_id(h5),\n",
    "        'song_time_signature': get_time_signature(h5),\n",
    "        'song_time_signature_confidence': get_time_signature_confidence(h5),\n",
    "        'song_tempo': get_tempo(h5),\n",
    "        'song_key': get_key(h5),\n",
    "        'song_key_confidence': get_key_confidence(h5),\n",
    "        'song_mode': get_mode(h5),\n",
    "        'song_mode_confidence': get_mode_confidence(h5),\n",
    "        'song_loudness': get_loudness(h5),\n",
    "        'song_energy': get_energy(h5),\n",
    "        'song_duration': get_duration(h5),\n",
    "        'song_danceability': get_danceability(h5),\n",
    "        'song_hotttnesss': get_song_hotttnesss(h5),\n",
    "        'song_segments_start': get_segments_start(h5),\n",
    "        'song_segments_confidence': get_segments_confidence(h5),\n",
    "        'song_sections_start': get_sections_start(h5),\n",
    "        'song_sections_confidence': get_sections_confidence(h5),\n",
    "        'artist_id': get_artist_id(h5),\n",
    "        'artist_mbid': get_artist_mbid(h5),\n",
    "        'artist_name': get_artist_name(h5),\n",
    "        'artist_terms': get_artist_terms(h5),\n",
    "        'artist_terms_frequency': get_artist_terms_freq(h5),\n",
    "        'artist_terms_weight': get_artist_terms_weight(h5),\n",
    "        'artist_mbtags': get_artist_mbtags(h5),\n",
    "        'artist_hotttnesss': get_artist_hotttnesss(h5),\n",
    "        'artist_familiarity': get_artist_familiarity(h5),\n",
    "        'artist_location': get_artist_location(h5)\n",
    "    }\n",
    "\n",
    "def query_dict_array(arr, query):\n",
    "    \n",
    "    if type(query) != list:\n",
    "        query = [query]\n",
    "    \n",
    "    def array_filter(data):\n",
    "        for q in query:\n",
    "            t = 'OR'\n",
    "            if 'type' in q:\n",
    "                if q['type'].upper() == 'AND':\n",
    "                    t = 'AND'    \n",
    "            for key in q:\n",
    "                \n",
    "                if key == 'type':\n",
    "                    continue\n",
    "                \n",
    "                if t == 'OR':\n",
    "                    if type(q[key]) == str or isinstance(q[key], numbers.Number):\n",
    "                        if type(data[key]) == str or isinstance(data[key], numbers.Number):\n",
    "                            if q[key] == data[key]:\n",
    "                                return True\n",
    "                        elif type(data[key]) == list or type(data[key]) == np.ndarray:\n",
    "                            if q[key] in data[key]:\n",
    "                                return True\n",
    "                    elif type (q[key]) == list:\n",
    "                        for v in q[key]:\n",
    "                            if type(data[key]) == str or isinstance(v, numbers.Number):\n",
    "                                if v == data[key]:\n",
    "                                    return True\n",
    "                            elif type(data[key]) == list or type(data[key]) == np.ndarray:\n",
    "                                if v in data[key]:\n",
    "                                    return True\n",
    "                    elif callable(q[key]):\n",
    "                        if q[key](data[key]):\n",
    "                            return True\n",
    "                else:\n",
    "                    if type(q[key]) == str or isinstance(q[key], numbers.Number):\n",
    "                        if type(data[key]) == str or isinstance(data[key], numbers.Number):\n",
    "                            if q[key] != data[key]:\n",
    "                                return False\n",
    "                        elif type(data[key]) == list or type(data[key]) == np.ndarray:\n",
    "                            if q[key] not in data[key]:\n",
    "                                return False\n",
    "                    elif type (q[key]) == list:\n",
    "                        for v in q[key]:\n",
    "                            if type(data[key]) == str or isinstance(v, numbers.Number):\n",
    "                                if v != data[key]:\n",
    "                                    return False\n",
    "                            elif type(data[key]) == list or type(data[key]) == np.ndarray:\n",
    "                                if v not in data[key]:\n",
    "                                    return False\n",
    "                    elif callable(q[key]):\n",
    "                        if not q[key](data[key]):\n",
    "                            return False\n",
    "            if t == 'AND':\n",
    "                return True\n",
    "        return False\n",
    "\n",
    "    return filter(array_filter, arr)\n"
   ]
  },
  {
   "cell_type": "code",
   "execution_count": null,
   "metadata": {
    "collapsed": false
   },
   "outputs": [],
   "source": [
    "query = {\n",
    "    'type': 'AND',\n",
    "    'song_hotttnesss': lambda hotttnesss: hotttnesss > 0.5,\n",
    "    'artist_terms': ['punk'],\n",
    "  }\n",
    "\n",
    "with open('msd.pickle', 'w') as f:\n",
    "    pickle.dump(msd, f)\n",
    "\n",
    "results = query_dict_array(msd, query)\n",
    "print(len(results))\n",
    "# test = list([r['artist_terms'].tolist() for r in results])\n"
   ]
  },
  {
   "cell_type": "code",
   "execution_count": 3,
   "metadata": {
    "collapsed": true
   },
   "outputs": [],
   "source": [
    "h5_dir = '/home/bbpwn/Documents/code/midi-dataset/data/lmd_matched_h5'"
   ]
  },
  {
   "cell_type": "code",
   "execution_count": 4,
   "metadata": {
    "collapsed": false
   },
   "outputs": [],
   "source": [
    "h5_files = glob.glob('{}/*/*/*/*.h5'.format(h5_dir))"
   ]
  },
  {
   "cell_type": "code",
   "execution_count": 5,
   "metadata": {
    "collapsed": true
   },
   "outputs": [],
   "source": [
    "start_time = time.time()"
   ]
  },
  {
   "cell_type": "markdown",
   "metadata": {},
   "source": [
    "Singlethreaded loading"
   ]
  },
  {
   "cell_type": "code",
   "execution_count": null,
   "metadata": {
    "collapsed": false
   },
   "outputs": [],
   "source": [
    "# msd = []\n",
    "# for i, h5 in enumerate(h5_files):\n",
    "#     meta.append(process_h5(h5))\n",
    "#     if i % 100 == 0:\n",
    "#         print(i)"
   ]
  },
  {
   "cell_type": "markdown",
   "metadata": {},
   "source": [
    "Multithreaded loading"
   ]
  },
  {
   "cell_type": "code",
   "execution_count": 6,
   "metadata": {
    "collapsed": false
   },
   "outputs": [],
   "source": [
    "num_threads = 8\n",
    "pool = ThreadPool(num_threads)\n",
    "msd = pool.map(process_h5, h5_files)"
   ]
  },
  {
   "cell_type": "markdown",
   "metadata": {},
   "source": [
    "Load from pickle"
   ]
  },
  {
   "cell_type": "code",
   "execution_count": null,
   "metadata": {
    "collapsed": false
   },
   "outputs": [],
   "source": [
    "with open('msd.pickle', 'r') as f:\n",
    "    msd = pickle.load(f)"
   ]
  },
  {
   "cell_type": "code",
   "execution_count": null,
   "metadata": {
    "collapsed": false
   },
   "outputs": [],
   "source": [
    "print('Loaded in {:.2f} seconds'.format(time.time() - start_time))"
   ]
  },
  {
   "cell_type": "code",
   "execution_count": null,
   "metadata": {
    "collapsed": false
   },
   "outputs": [],
   "source": [
    "def get_array_freq(msd, field='artist_terms'):\n",
    "    freqs = {}\n",
    "    for s in msd:\n",
    "        for t in s[field]:\n",
    "            if t not in freqs:\n",
    "                freqs[t] = 0\n",
    "            freqs[t] = freqs[t] + 1\n",
    "    return freqs\n",
    "    \n",
    "def get_freq(msd, field):\n",
    "    years = {}\n",
    "    for s in msd:\n",
    "        if s[field] not in years:\n",
    "            years[s[field]] = 0\n",
    "        years[s[field]] = years[s[field]] + 1\n",
    "    return years"
   ]
  },
  {
   "cell_type": "code",
   "execution_count": null,
   "metadata": {
    "collapsed": false
   },
   "outputs": [],
   "source": [
    "year_freq = get_freq(msd, 'song_year')\n",
    "key_freq = get_freq(msd,  'song_key')\n",
    "terms_freq = get_array_freq(msd, 'artist_terms')\n",
    "mbtags_freq = get_array_freq(msd, 'artist_mbtags')\n",
    "\n",
    "# above dict items can be sorted into a list of tuples later with\n",
    "# sorted_terms_freq = sorted(terms_freq.items(), key=operator.itemgetter(1))"
   ]
  },
  {
   "cell_type": "markdown",
   "metadata": {
    "collapsed": true
   },
   "source": [
    "## Plotting"
   ]
  },
  {
   "cell_type": "code",
   "execution_count": null,
   "metadata": {
    "collapsed": false
   },
   "outputs": [],
   "source": [
    "sorted_terms_freq = sorted(terms_freq.items(), key=operator.itemgetter(1), reverse=True)[:100]\n",
    "sorted_mbtags_freq = sorted(mbtags_freq.items(), key=operator.itemgetter(1), reverse=True)[:100]\n",
    "sorted_key_freq = sorted(key_freq.items(), key=operator.itemgetter(1), reverse=True)\n",
    "# sorted_year_freq = sorted(year_freq.items(), key=operator.itemgetter(1), reverse=True)"
   ]
  },
  {
   "cell_type": "code",
   "execution_count": null,
   "metadata": {
    "collapsed": false
   },
   "outputs": [],
   "source": [
    "plt.rcParams[\"figure.figsize\"] = (12, 8)\n",
    "\n",
    "plt.bar(range(0, len(sorted_terms_freq)), \n",
    "        [y for x, y in sorted_terms_freq], \n",
    "        align='edge', width=1.0, color='blue')\n",
    "plt.title('Terms Frequency')\n",
    "plt.ylabel('Frequency')\n",
    "plt.xlabel('Terms')\n",
    "plt.show()"
   ]
  },
  {
   "cell_type": "code",
   "execution_count": null,
   "metadata": {
    "collapsed": false
   },
   "outputs": [],
   "source": [
    "for i, v in list(enumerate(sorted_terms_freq))[:50]:\n",
    "    print('{}. {} {}'.format(str(i + 1).rjust(3), v[0].ljust(20), v[1]))"
   ]
  },
  {
   "cell_type": "code",
   "execution_count": null,
   "metadata": {
    "collapsed": false
   },
   "outputs": [],
   "source": [
    "plt.bar(range(0, len(sorted_mbtags_freq)), \n",
    "        [y for x, y in sorted_mbtags_freq], \n",
    "        align='edge', width=1.0, color='green')\n",
    "plt.title('Mbtags Frequency')\n",
    "plt.ylabel('Frequency')\n",
    "plt.xlabel('Mbtabs')\n",
    "plt.show()"
   ]
  },
  {
   "cell_type": "code",
   "execution_count": null,
   "metadata": {
    "collapsed": false
   },
   "outputs": [],
   "source": [
    "for i, v in list(enumerate(sorted_mbtags_freq))[:50]:\n",
    "    print('{}. {} {}'.format(str(i + 1).rjust(3), v[0].ljust(27), v[1]))"
   ]
  },
  {
   "cell_type": "code",
   "execution_count": null,
   "metadata": {
    "collapsed": false
   },
   "outputs": [],
   "source": [
    "year_freq.pop(0, None)\n",
    "plt.plot(list(year_freq.keys()), list(year_freq.values()), \n",
    "         color='orange')\n",
    "plt.title('Songs by Year')\n",
    "plt.ylabel('Songs')\n",
    "plt.xlabel('Year')\n",
    "plt.show()"
   ]
  },
  {
   "cell_type": "code",
   "execution_count": null,
   "metadata": {
    "collapsed": false
   },
   "outputs": [],
   "source": [
    "plt.bar(range(0, len(sorted_key_freq)), \n",
    "        [y for x, y in sorted_key_freq], \n",
    "        align='edge', width=1.0)\n",
    "plt.title('Key Frequency')\n",
    "plt.ylabel('Frequency')\n",
    "plt.xlabel('Key')\n",
    "plt.legend([x for x, y in sorted_key_freq])\n",
    "plt.show()"
   ]
  },
  {
   "cell_type": "code",
   "execution_count": null,
   "metadata": {
    "collapsed": true
   },
   "outputs": [],
   "source": []
  }
 ],
 "metadata": {
  "kernelspec": {
   "display_name": "Python 2",
   "language": "python",
   "name": "python2"
  },
  "language_info": {
   "codemirror_mode": {
    "name": "ipython",
    "version": 2
   },
   "file_extension": ".py",
   "mimetype": "text/x-python",
   "name": "python",
   "nbconvert_exporter": "python",
   "pygments_lexer": "ipython2",
   "version": "2.7.13"
  }
 },
 "nbformat": 4,
 "nbformat_minor": 2
}
