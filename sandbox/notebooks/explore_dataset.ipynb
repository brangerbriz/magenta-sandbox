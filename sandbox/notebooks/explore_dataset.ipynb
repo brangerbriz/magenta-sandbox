{
 "cells": [
  {
   "cell_type": "markdown",
   "metadata": {},
   "source": [
    "## Imports"
   ]
  },
  {
   "cell_type": "code",
   "execution_count": 1,
   "metadata": {
    "collapsed": false
   },
   "outputs": [],
   "source": [
    "import sys\n",
    "sys.path.append('../../MSongsDB/PythonSrc') \n",
    "\n",
    "import dill as pickle\n",
    "import numbers\n",
    "import operator\n",
    "import time\n",
    "import pdb\n",
    "import os\n",
    "import glob\n",
    "import h5py\n",
    "import numpy as np\n",
    "import matplotlib.pyplot as plt\n",
    "from multiprocessing import Pool as ThreadPool\n",
    "from hdf5_getters import *"
   ]
  },
  {
   "cell_type": "markdown",
   "metadata": {},
   "source": [
    "## Utils"
   ]
  },
  {
   "cell_type": "code",
   "execution_count": 2,
   "metadata": {
    "collapsed": false
   },
   "outputs": [],
   "source": [
    "def msd_id_to_dirs(msd_id):\n",
    "    \"\"\"Given an MSD ID, generate the path prefix.\n",
    "    E.g. TRABCD12345678 -> A/B/C/TRABCD12345678\"\"\"\n",
    "    return os.path.join(msd_id[2], msd_id[3], msd_id[4], msd_id)\n",
    "\n",
    "def process_h5(h5):\n",
    "    h5 = open_h5_file_read(h5)\n",
    "    parsed = parse_h5(h5)\n",
    "    h5.close()\n",
    "    return parsed\n",
    "\n",
    "def parse_h5(h5):\n",
    "    return {\n",
    "        'path': msd_id_to_dirs(get_song_id(h5)),\n",
    "        'audio_md5': get_audio_md5(h5),\n",
    "        'song_year': get_year(h5),\n",
    "        'song_title': get_title(h5),\n",
    "        'song_id': get_song_id(h5),\n",
    "        'song_time_signature': get_time_signature(h5),\n",
    "        'song_time_signature_confidence': get_time_signature_confidence(h5),\n",
    "        'song_tempo': get_tempo(h5),\n",
    "        'song_key': get_key(h5),\n",
    "        'song_key_confidence': get_key_confidence(h5),\n",
    "        'song_mode': get_mode(h5),\n",
    "        'song_mode_confidence': get_mode_confidence(h5),\n",
    "        'song_loudness': get_loudness(h5),\n",
    "        'song_energy': get_energy(h5),\n",
    "        'song_duration': get_duration(h5),\n",
    "        'song_danceability': get_danceability(h5),\n",
    "        'song_hotttnesss': get_song_hotttnesss(h5),\n",
    "        'song_segments_start': get_segments_start(h5),\n",
    "        'song_segments_confidence': get_segments_confidence(h5),\n",
    "        'song_sections_start': get_sections_start(h5),\n",
    "        'song_sections_confidence': get_sections_confidence(h5),\n",
    "        'artist_id': get_artist_id(h5),\n",
    "        'artist_mbid': get_artist_mbid(h5),\n",
    "        'artist_name': get_artist_name(h5),\n",
    "        'artist_terms': get_artist_terms(h5),\n",
    "        'artist_terms_frequency': get_artist_terms_freq(h5),\n",
    "        'artist_terms_weight': get_artist_terms_weight(h5),\n",
    "        'artist_mbtags': get_artist_mbtags(h5),\n",
    "        'artist_hotttnesss': get_artist_hotttnesss(h5),\n",
    "        'artist_familiarity': get_artist_familiarity(h5),\n",
    "        'artist_location': get_artist_location(h5)\n",
    "    }\n",
    "\n",
    "def query_dict_array(arr, query):\n",
    "    \n",
    "    if type(query) != list:\n",
    "        query = [query]\n",
    "    \n",
    "    def array_filter(data):\n",
    "        for q in query:\n",
    "            t = 'OR'\n",
    "            if 'type' in q:\n",
    "                if q['type'].upper() == 'AND':\n",
    "                    t = 'AND'    \n",
    "            for key in q:\n",
    "                \n",
    "                if key == 'type':\n",
    "                    continue\n",
    "                \n",
    "                if t == 'OR':\n",
    "                    if type(q[key]) == str or isinstance(q[key], numbers.Number):\n",
    "                        if type(data[key]) == str or isinstance(data[key], numbers.Number):\n",
    "                            if q[key] == data[key]:\n",
    "                                return True\n",
    "                        elif type(data[key]) == list or type(data[key]) == np.ndarray:\n",
    "                            if q[key] in data[key]:\n",
    "                                return True\n",
    "                    elif type (q[key]) == list:\n",
    "                        for v in q[key]:\n",
    "                            if type(data[key]) == str or isinstance(v, numbers.Number):\n",
    "                                if v == data[key]:\n",
    "                                    return True\n",
    "                            elif type(data[key]) == list or type(data[key]) == np.ndarray:\n",
    "                                if v in data[key]:\n",
    "                                    return True\n",
    "                    elif callable(q[key]):\n",
    "                        if q[key](data[key]):\n",
    "                            return True\n",
    "                else:\n",
    "                    if type(q[key]) == str or isinstance(q[key], numbers.Number):\n",
    "                        if type(data[key]) == str or isinstance(data[key], numbers.Number):\n",
    "                            if q[key] != data[key]:\n",
    "                                return False\n",
    "                        elif type(data[key]) == list or type(data[key]) == np.ndarray:\n",
    "                            if q[key] not in data[key]:\n",
    "                                return False\n",
    "                    elif type (q[key]) == list:\n",
    "                        for v in q[key]:\n",
    "                            if type(data[key]) == str or isinstance(v, numbers.Number):\n",
    "                                if v != data[key]:\n",
    "                                    return False\n",
    "                            elif type(data[key]) == list or type(data[key]) == np.ndarray:\n",
    "                                if v not in data[key]:\n",
    "                                    return False\n",
    "                    elif callable(q[key]):\n",
    "                        if not q[key](data[key]):\n",
    "                            return False\n",
    "            if t == 'AND':\n",
    "                return True\n",
    "        return False\n",
    "\n",
    "    return filter(array_filter, arr)\n",
    "\n",
    "def get_array_freq(msd, field='artist_terms'):\n",
    "    freqs = {}\n",
    "    for s in msd:\n",
    "        for t in s[field]:\n",
    "            if t not in freqs:\n",
    "                freqs[t] = 0\n",
    "            freqs[t] = freqs[t] + 1\n",
    "    return freqs\n",
    "    \n",
    "def get_freq(msd, field):\n",
    "    years = {}\n",
    "    for s in msd:\n",
    "        if s[field] not in years:\n",
    "            years[s[field]] = 0\n",
    "        years[s[field]] = years[s[field]] + 1\n",
    "    return years"
   ]
  },
  {
   "cell_type": "markdown",
   "metadata": {},
   "source": [
    "## Load and parse Million Song Dataset"
   ]
  },
  {
   "cell_type": "code",
   "execution_count": 3,
   "metadata": {
    "collapsed": true
   },
   "outputs": [],
   "source": [
    "h5_dir = '/home/bbpwn/Documents/code/midi-dataset/data/lmd_matched_h5'\n",
    "h5_files = glob.glob('{}/*/*/*/*.h5'.format(h5_dir))\n",
    "start_time = time.time()"
   ]
  },
  {
   "cell_type": "markdown",
   "metadata": {},
   "source": [
    "Singlethreaded loading"
   ]
  },
  {
   "cell_type": "code",
   "execution_count": 4,
   "metadata": {
    "collapsed": false
   },
   "outputs": [],
   "source": [
    "# msd = []\n",
    "# for i, h5 in enumerate(h5_files):\n",
    "#     meta.append(process_h5(h5))\n",
    "#     if i % 100 == 0:\n",
    "#         print(i)"
   ]
  },
  {
   "cell_type": "markdown",
   "metadata": {},
   "source": [
    "Multithreaded loading"
   ]
  },
  {
   "cell_type": "code",
   "execution_count": 5,
   "metadata": {
    "collapsed": false
   },
   "outputs": [],
   "source": [
    "# num_threads = 8\n",
    "# pool = ThreadPool(num_threads)\n",
    "# msd = pool.map(process_h5, h5_files)"
   ]
  },
  {
   "cell_type": "markdown",
   "metadata": {},
   "source": [
    "Load/save from pickle"
   ]
  },
  {
   "cell_type": "code",
   "execution_count": 6,
   "metadata": {
    "collapsed": false
   },
   "outputs": [],
   "source": [
    "## Uncomment to save msd as pickle\n",
    "# with open('msd.pickle', 'w') as f:\n",
    "#     pickle.dump(msd, f)\n",
    "\n",
    "with open('msd.pickle', 'r') as f:\n",
    "    msd = pickle.load(f)"
   ]
  },
  {
   "cell_type": "code",
   "execution_count": 7,
   "metadata": {
    "collapsed": false
   },
   "outputs": [
    {
     "name": "stdout",
     "output_type": "stream",
     "text": [
      "Loaded in 22.26 seconds\n"
     ]
    }
   ],
   "source": [
    "print('Loaded in {:.2f} seconds'.format(time.time() - start_time))"
   ]
  },
  {
   "cell_type": "markdown",
   "metadata": {
    "collapsed": true
   },
   "source": [
    "## Plotting"
   ]
  },
  {
   "cell_type": "code",
   "execution_count": 8,
   "metadata": {
    "collapsed": false
   },
   "outputs": [],
   "source": [
    "year_freq = get_freq(msd, 'song_year')\n",
    "key_freq = get_freq(msd,  'song_key')\n",
    "terms_freq = get_array_freq(msd, 'artist_terms')\n",
    "mbtags_freq = get_array_freq(msd, 'artist_mbtags')\n",
    "\n",
    "# above dict items can be sorted into a list of tuples later with\n",
    "# sorted_terms_freq = sorted(terms_freq.items(), key=operator.itemgetter(1))"
   ]
  },
  {
   "cell_type": "code",
   "execution_count": 9,
   "metadata": {
    "collapsed": false
   },
   "outputs": [],
   "source": [
    "sorted_terms_freq = sorted(terms_freq.items(), key=operator.itemgetter(1), reverse=True)[:100]\n",
    "sorted_mbtags_freq = sorted(mbtags_freq.items(), key=operator.itemgetter(1), reverse=True)[:100]\n",
    "sorted_key_freq = sorted(key_freq.items(), key=operator.itemgetter(1), reverse=True)\n",
    "# sorted_year_freq = sorted(year_freq.items(), key=operator.itemgetter(1), reverse=True)"
   ]
  },
  {
   "cell_type": "code",
   "execution_count": 10,
   "metadata": {
    "collapsed": false
   },
   "outputs": [
    {
     "data": {
      "image/png": "[encoded data removed]",
      "text/plain": [
       "<matplotlib.figure.Figure at 0x7f8f63c936d0>"
      ]
     },
     "metadata": {},
     "output_type": "display_data"
    }
   ],
   "source": [
    "plt.rcParams[\"figure.figsize\"] = (12, 8)\n",
    "\n",
    "plt.bar(range(0, len(sorted_terms_freq)), \n",
    "        [y for x, y in sorted_terms_freq], \n",
    "        align='edge', width=1.0, color='blue')\n",
    "plt.title('Terms Frequency')\n",
    "plt.ylabel('Frequency')\n",
    "plt.xlabel('Terms')\n",
    "plt.show()"
   ]
  },
  {
   "cell_type": "code",
   "execution_count": 11,
   "metadata": {
    "collapsed": false
   },
   "outputs": [
    {
     "name": "stdout",
     "output_type": "stream",
     "text": [
      "  1. rock                 22846\n",
      "  2. pop                  22548\n",
      "  3. electronic           17167\n",
      "  4. pop rock             11864\n",
      "  5. jazz                 11403\n",
      "  6. alternative rock     9892\n",
      "  7. ballad               9823\n",
      "  8. hip hop              9816\n",
      "  9. soul                 9607\n",
      " 10. disco                9572\n",
      " 11. vocal                8980\n",
      " 12. classic rock         8821\n",
      " 13. house                8772\n",
      " 14. alternative          8517\n",
      " 15. folk                 8445\n",
      " 16. united states        8343\n",
      " 17. soundtrack           8059\n",
      " 18. soft rock            7827\n",
      " 19. country              7705\n",
      " 20. electro              7688\n",
      " 21. synthpop             7295\n",
      " 22. funk                 7263\n",
      " 23. techno               7219\n",
      " 24. blues                7024\n",
      " 25. germany              6924\n",
      " 26. downtempo            6852\n",
      " 27. easy listening       6849\n",
      " 28. 80s                  6681\n",
      " 29. indie                6669\n",
      " 30. acoustic             6313\n",
      " 31. guitar               6296\n",
      " 32. classic              6238\n",
      " 33. trance               6049\n",
      " 34. singer-songwriter    5984\n",
      " 35. female vocalist      5967\n",
      " 36. dance                5883\n",
      " 37. punk                 5868\n",
      " 38. american             5583\n",
      " 39. electronica          5557\n",
      " 40. new wave             5497\n",
      " 41. hard rock            5491\n",
      " 42. instrumental         5467\n",
      " 43. reggae               5440\n",
      " 44. europop              5417\n",
      " 45. world                5345\n",
      " 46. indie rock           5300\n",
      " 47. oldies               5193\n",
      " 48. latin                5156\n",
      " 49. ambient              5149\n",
      " 50. male vocalist        5147\n"
     ]
    }
   ],
   "source": [
    "for i, v in list(enumerate(sorted_terms_freq))[:50]:\n",
    "    print('{}. {} {}'.format(str(i + 1).rjust(3), v[0].ljust(20), v[1]))"
   ]
  },
  {
   "cell_type": "code",
   "execution_count": 12,
   "metadata": {
    "collapsed": false
   },
   "outputs": [
    {
     "data": {
      "image/png": "[encoded data removed]",
      "text/plain": [
       "<matplotlib.figure.Figure at 0x7f8f63c935d0>"
      ]
     },
     "metadata": {},
     "output_type": "display_data"
    }
   ],
   "source": [
    "plt.bar(range(0, len(sorted_mbtags_freq)), \n",
    "        [y for x, y in sorted_mbtags_freq], \n",
    "        align='edge', width=1.0, color='green')\n",
    "plt.title('Mbtags Frequency')\n",
    "plt.ylabel('Frequency')\n",
    "plt.xlabel('Mbtabs')\n",
    "plt.show()"
   ]
  },
  {
   "cell_type": "code",
   "execution_count": 13,
   "metadata": {
    "collapsed": false
   },
   "outputs": [
    {
     "name": "stdout",
     "output_type": "stream",
     "text": [
      "  1. classic pop and rock        4009\n",
      "  2. rock                        3445\n",
      "  3. american                    2854\n",
      "  4. british                     2750\n",
      "  5. uk                          2445\n",
      "  6. pop                         2392\n",
      "  7. english                     2116\n",
      "  8. pop and chart               1509\n",
      "  9. rock and indie              1486\n",
      " 10. electronic                  952\n",
      " 11. alternative rock            889\n",
      " 12. european                    813\n",
      " 13. folk                        791\n",
      " 14. usa                         728\n",
      " 15. german                      633\n",
      " 16. hard rock                   631\n",
      " 17. classical                   593\n",
      " 18. metal                       578\n",
      " 19. country                     557\n",
      " 20. french                      554\n",
      " 21. américain                  548\n",
      " 22. pop rock                    529\n",
      " 23. rnb                         474\n",
      " 24. hip hop rnb and dance hall  414\n",
      " 25. new wave                    410\n",
      " 26. jazz                        402\n",
      " 27. united states               391\n",
      " 28. punk                        387\n",
      " 29. progressive rock            383\n",
      " 30. britannique                 377\n",
      " 31. italian                     353\n",
      " 32. canadian                    340\n",
      " 33. dance and electronica       330\n",
      " 34. heavy metal                 325\n",
      " 35. production music            322\n",
      " 36. 80s                         320\n",
      " 37. soul                        317\n",
      " 38. irish                       305\n",
      " 39. alternative                 300\n",
      " 40. soft rock                   297\n",
      " 41. dance                       294\n",
      " 42. disco                       267\n",
      " 43. synthpop                    266\n",
      " 44. adult contemporary          259\n",
      " 45. electronica                 250\n",
      " 46. composer                    249\n",
      " 47. blues rock                  244\n",
      " 48. easy listening soundtracks and musicals 240\n",
      " 49. 90s                         231\n",
      " 50. soul and reggae             231\n"
     ]
    }
   ],
   "source": [
    "for i, v in list(enumerate(sorted_mbtags_freq))[:50]:\n",
    "    print('{}. {} {}'.format(str(i + 1).rjust(3), v[0].ljust(27), v[1]))"
   ]
  },
  {
   "cell_type": "code",
   "execution_count": 14,
   "metadata": {
    "collapsed": false
   },
   "outputs": [
    {
     "data": {
      "image/png": "[encoded data removed]",
      "text/plain": [
       "<matplotlib.figure.Figure at 0x7f8f5f86ef10>"
      ]
     },
     "metadata": {},
     "output_type": "display_data"
    }
   ],
   "source": [
    "year_freq.pop(0, None)\n",
    "plt.plot(list(year_freq.keys()), list(year_freq.values()), \n",
    "         color='orange')\n",
    "plt.title('Songs by Year')\n",
    "plt.ylabel('Songs')\n",
    "plt.xlabel('Year')\n",
    "plt.show()"
   ]
  },
  {
   "cell_type": "code",
   "execution_count": 15,
   "metadata": {
    "collapsed": false
   },
   "outputs": [
    {
     "data": {
      "image/png": "[encoded data removed]",
      "text/plain": [
       "<matplotlib.figure.Figure at 0x7f8f4bf95d90>"
      ]
     },
     "metadata": {},
     "output_type": "display_data"
    }
   ],
   "source": [
    "plt.bar(range(0, len(sorted_key_freq)), \n",
    "        [y for x, y in sorted_key_freq], \n",
    "        align='edge', width=1.0)\n",
    "plt.title('Key Frequency')\n",
    "plt.ylabel('Frequency')\n",
    "plt.xlabel('Key')\n",
    "plt.legend([x for x, y in sorted_key_freq])\n",
    "plt.show()"
   ]
  },
  {
   "cell_type": "markdown",
   "metadata": {
    "collapsed": true
   },
   "source": [
    "## Query dataset"
   ]
  },
  {
   "cell_type": "code",
   "execution_count": 16,
   "metadata": {
    "collapsed": false
   },
   "outputs": [
    {
     "name": "stdout",
     "output_type": "stream",
     "text": [
      "1755\n"
     ]
    }
   ],
   "source": [
    "query = {\n",
    "    'type': 'AND',\n",
    "    'song_hotttnesss': lambda hotttnesss: hotttnesss > 0.5,\n",
    "    'artist_terms': ['punk'],\n",
    "  }\n",
    "\n",
    "results = query_dict_array(msd, query)\n",
    "print(len(results))\n",
    "# test = list([r['artist_terms'].tolist() for r in results])\n"
   ]
  }
 ],
 "metadata": {
  "kernelspec": {
   "display_name": "Python 2",
   "language": "python",
   "name": "python2"
  },
  "language_info": {
   "codemirror_mode": {
    "name": "ipython",
    "version": 2
   },
   "file_extension": ".py",
   "mimetype": "text/x-python",
   "name": "python",
   "nbconvert_exporter": "python",
   "pygments_lexer": "ipython2",
   "version": "2.7.13"
  }
 },
 "nbformat": 4,
 "nbformat_minor": 2
}
