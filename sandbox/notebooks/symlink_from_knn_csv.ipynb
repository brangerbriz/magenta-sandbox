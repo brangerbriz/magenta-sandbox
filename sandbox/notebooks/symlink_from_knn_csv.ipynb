{
 "cells": [
  {
   "cell_type": "code",
   "execution_count": 18,
   "metadata": {
    "collapsed": true,
    "deletable": true,
    "editable": true
   },
   "outputs": [],
   "source": [
    "import os, glob, shutil, csv"
   ]
  },
  {
   "cell_type": "code",
   "execution_count": 19,
   "metadata": {
    "collapsed": false,
    "deletable": true,
    "editable": true
   },
   "outputs": [],
   "source": [
    "lmd_dir = os.path.expanduser('~') + '/Documents/code/midi-dataset/data/lmd_full_flat_symlink'\n",
    "symlink_dir = 'symlink'\n",
    "knn_csv='/home/bbpwn2/Documents/OpenFrameworks/' \\\n",
    "        'of_v0.9.8_linux64_release/apps/myApps/' \\\n",
    "        't-SNEPointSelector/bin/data/knn_searches/' \\\n",
    "        'knn_39e31987c76b860783b82a26f5bb6f52.mid.csv'"
   ]
  },
  {
   "cell_type": "code",
   "execution_count": 20,
   "metadata": {
    "collapsed": false
   },
   "outputs": [],
   "source": [
    "with open(knn_csv, 'r') as f:\n",
    "    reader = csv.DictReader(f)\n",
    "    neighbors = [row['neighbor_id'] for row in reader if row['distance'] != '0']"
   ]
  },
  {
   "cell_type": "code",
   "execution_count": 21,
   "metadata": {
    "collapsed": false,
    "deletable": true,
    "editable": true
   },
   "outputs": [
    {
     "name": "stdout",
     "output_type": "stream",
     "text": [
      "created 99 symlinks in symlink\n"
     ]
    }
   ],
   "source": [
    "# delete dirname if it exists\n",
    "if os.path.isdir(symlink_dir):\n",
    "    shutil.rmtree(symlink_dir)\n",
    "\n",
    "# create dirname if it doesn't exist\n",
    "if not os.path.isdir(symlink_dir):\n",
    "    os.mkdir(symlink_dir)\n",
    "\n",
    "files = [os.path.join(lmd_dir, filename) for filename in neighbors]\n",
    "for f in files:\n",
    "    os.symlink(f, os.path.join(symlink_dir, os.path.basename(f)))\n",
    "print('created {} symlinks in {}'.format(len(files), symlink_dir))"
   ]
  }
 ],
 "metadata": {
  "kernelspec": {
   "display_name": "magenta-sandbox",
   "language": "python",
   "name": "magenta-sandbox"
  },
  "language_info": {
   "codemirror_mode": {
    "name": "ipython",
    "version": 2
   },
   "file_extension": ".py",
   "mimetype": "text/x-python",
   "name": "python",
   "nbconvert_exporter": "python",
   "pygments_lexer": "ipython2",
   "version": "2.7.12"
  }
 },
 "nbformat": 4,
 "nbformat_minor": 2
}
