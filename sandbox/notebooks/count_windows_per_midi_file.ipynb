{
 "cells": [
  {
   "cell_type": "markdown",
   "metadata": {
    "deletable": true,
    "editable": true
   },
   "source": [
    "The goal of this notebook is to find the average number of monophonic midi windows per midi track to use in calculating an appropriate epoch number."
   ]
  },
  {
   "cell_type": "code",
   "execution_count": 1,
   "metadata": {
    "collapsed": false,
    "deletable": true,
    "editable": true
   },
   "outputs": [
    {
     "name": "stderr",
     "output_type": "stream",
     "text": [
      "Using TensorFlow backend.\n"
     ]
    }
   ],
   "source": [
    "import sys\n",
    "sys.path.append('../python')\n",
    "\n",
    "import os, pdb\n",
    "import utils, midi_utils\n",
    "from multiprocessing import Pool as ThreadPool\n",
    "import numpy as np"
   ]
  },
  {
   "cell_type": "code",
   "execution_count": 2,
   "metadata": {
    "collapsed": true,
    "deletable": true,
    "editable": true
   },
   "outputs": [],
   "source": [
    "def get_data_from_midi(midi):\n",
    "    X, y = [], []\n",
    "    for m in midi:\n",
    "        if m is not None:\n",
    "            melody_instruments = midi_utils.filter_monophonic(m.instruments, \n",
    "                                                              0.95)\n",
    "            for instrument in melody_instruments:\n",
    "                if len(instrument.notes) > 20:\n",
    "                    windows = midi_utils.encode_sliding_window_notes(instrument, \n",
    "                                                                window_size=20)\n",
    "                    for w in windows:\n",
    "                        X.append(w[0])\n",
    "                        y.append(w[1])\n",
    "    return (np.asarray(X), np.asarray(y))"
   ]
  },
  {
   "cell_type": "code",
   "execution_count": 3,
   "metadata": {
    "collapsed": false,
    "deletable": true,
    "editable": true
   },
   "outputs": [
    {
     "name": "stdout",
     "output_type": "stream",
     "text": [
      "batch: 0-100\n"
     ]
    },
    {
     "name": "stderr",
     "output_type": "stream",
     "text": [
      "/home/bbpwn2/Documents/code/magenta-sandbox/venv/local/lib/python2.7/site-packages/pretty_midi/pretty_midi.py:93: RuntimeWarning: Tempo, Key or Time signature change events found on non-zero tracks.  This is not a valid type 0 or type 1 MIDI file.  Tempo, Key or Time Signature may be wrong.\n",
      "  RuntimeWarning)\n",
      "/home/bbpwn2/Documents/code/magenta-sandbox/venv/local/lib/python2.7/site-packages/pretty_midi/pretty_midi.py:93: RuntimeWarning: Tempo, Key or Time signature change events found on non-zero tracks.  This is not a valid type 0 or type 1 MIDI file.  Tempo, Key or Time Signature may be wrong.\n",
      "  RuntimeWarning)\n",
      "/home/bbpwn2/Documents/code/magenta-sandbox/venv/local/lib/python2.7/site-packages/pretty_midi/pretty_midi.py:93: RuntimeWarning: Tempo, Key or Time signature change events found on non-zero tracks.  This is not a valid type 0 or type 1 MIDI file.  Tempo, Key or Time Signature may be wrong.\n",
      "  RuntimeWarning)\n",
      "/home/bbpwn2/Documents/code/magenta-sandbox/venv/local/lib/python2.7/site-packages/pretty_midi/pretty_midi.py:93: RuntimeWarning: Tempo, Key or Time signature change events found on non-zero tracks.  This is not a valid type 0 or type 1 MIDI file.  Tempo, Key or Time Signature may be wrong.\n",
      "  RuntimeWarning)\n",
      "/home/bbpwn2/Documents/code/magenta-sandbox/venv/local/lib/python2.7/site-packages/pretty_midi/pretty_midi.py:93: RuntimeWarning: Tempo, Key or Time signature change events found on non-zero tracks.  This is not a valid type 0 or type 1 MIDI file.  Tempo, Key or Time Signature may be wrong.\n",
      "  RuntimeWarning)\n"
     ]
    },
    {
     "name": "stdout",
     "output_type": "stream",
     "text": [
      "796 windows per file after 100 files\n",
      "batch: 100-200\n"
     ]
    },
    {
     "name": "stderr",
     "output_type": "stream",
     "text": [
      "/home/bbpwn2/Documents/code/magenta-sandbox/venv/local/lib/python2.7/site-packages/pretty_midi/pretty_midi.py:93: RuntimeWarning: Tempo, Key or Time signature change events found on non-zero tracks.  This is not a valid type 0 or type 1 MIDI file.  Tempo, Key or Time Signature may be wrong.\n",
      "  RuntimeWarning)\n"
     ]
    },
    {
     "name": "stdout",
     "output_type": "stream",
     "text": [
      "817 windows per file after 200 files\n",
      "batch: 200-300\n",
      "818 windows per file after 300 files\n",
      "batch: 300-400\n",
      "802 windows per file after 400 files\n",
      "batch: 400-500\n"
     ]
    },
    {
     "name": "stderr",
     "output_type": "stream",
     "text": [
      "/home/bbpwn2/Documents/code/magenta-sandbox/venv/local/lib/python2.7/site-packages/pretty_midi/pretty_midi.py:93: RuntimeWarning: Tempo, Key or Time signature change events found on non-zero tracks.  This is not a valid type 0 or type 1 MIDI file.  Tempo, Key or Time Signature may be wrong.\n",
      "  RuntimeWarning)\n",
      "/home/bbpwn2/Documents/code/magenta-sandbox/venv/local/lib/python2.7/site-packages/pretty_midi/pretty_midi.py:93: RuntimeWarning: Tempo, Key or Time signature change events found on non-zero tracks.  This is not a valid type 0 or type 1 MIDI file.  Tempo, Key or Time Signature may be wrong.\n",
      "  RuntimeWarning)\n"
     ]
    },
    {
     "name": "stdout",
     "output_type": "stream",
     "text": [
      "824 windows per file after 500 files\n",
      "batch: 500-600\n",
      "837 windows per file after 600 files\n",
      "batch: 600-700\n",
      "844 windows per file after 700 files\n",
      "batch: 700-800\n",
      "830 windows per file after 800 files\n",
      "batch: 800-900\n",
      "827 windows per file after 900 files\n",
      "batch: 900-1000\n",
      "837 windows per file after 1000 files\n",
      "batch: 1000-1100\n",
      "840 windows per file after 1100 files\n",
      "batch: 1100-1200\n",
      "845 windows per file after 1200 files\n",
      "batch: 1200-1300\n",
      "837 windows per file after 1300 files\n",
      "batch: 1300-1400\n",
      "836 windows per file after 1400 files\n",
      "batch: 1400-1500\n",
      "836 windows per file after 1500 files\n",
      "batch: 1500-1600\n",
      "833 windows per file after 1600 files\n",
      "batch: 1600-1700\n",
      "828 windows per file after 1700 files\n",
      "batch: 1700-1800\n",
      "825 windows per file after 1800 files\n",
      "batch: 1800-1900\n",
      "825 windows per file after 1900 files\n",
      "batch: 1900-2000\n",
      "827 windows per file after 2000 files\n",
      "batch: 2000-2100\n",
      "824 windows per file after 2100 files\n",
      "batch: 2100-2200\n",
      "829 windows per file after 2200 files\n",
      "batch: 2200-2300\n",
      "831 windows per file after 2300 files\n",
      "batch: 2300-2400\n",
      "832 windows per file after 2400 files\n",
      "batch: 2400-2500\n",
      "829 windows per file after 2500 files\n",
      "batch: 2500-2600\n",
      "823 windows per file after 2600 files\n",
      "batch: 2600-2700\n",
      "819 windows per file after 2700 files\n",
      "batch: 2700-2800\n",
      "819 windows per file after 2800 files\n",
      "batch: 2800-2900\n",
      "817 windows per file after 2900 files\n",
      "batch: 2900-3000\n",
      "818 windows per file after 3000 files\n",
      "batch: 3000-3100\n",
      "822 windows per file after 3100 files\n",
      "batch: 3100-3200\n",
      "820 windows per file after 3200 files\n",
      "batch: 3200-3300\n",
      "822 windows per file after 3300 files\n",
      "batch: 3300-3400\n",
      "821 windows per file after 3400 files\n",
      "batch: 3400-3500\n",
      "819 windows per file after 3500 files\n",
      "batch: 3500-3600\n",
      "823 windows per file after 3600 files\n",
      "batch: 3600-3700\n",
      "821 windows per file after 3700 files\n",
      "batch: 3700-3800\n",
      "819 windows per file after 3800 files\n",
      "batch: 3800-3900\n",
      "818 windows per file after 3900 files\n",
      "batch: 3900-4000\n",
      "815 windows per file after 4000 files\n",
      "batch: 4000-4100\n",
      "814 windows per file after 4100 files\n",
      "batch: 4100-4200\n",
      "816 windows per file after 4200 files\n",
      "batch: 4200-4300\n",
      "816 windows per file after 4300 files\n",
      "batch: 4300-4400\n",
      "815 windows per file after 4400 files\n",
      "batch: 4400-4500\n",
      "817 windows per file after 4500 files\n",
      "batch: 4500-4600\n",
      "819 windows per file after 4600 files\n",
      "batch: 4600-4700\n",
      "821 windows per file after 4700 files\n",
      "batch: 4700-4800\n",
      "821 windows per file after 4800 files\n",
      "batch: 4800-4900\n",
      "824 windows per file after 4900 files\n",
      "batch: 4900-5000\n",
      "824 windows per file after 5000 files\n",
      "4120767\n"
     ]
    }
   ],
   "source": [
    "midi_dir = '../../data/query_symlinks'\n",
    "files = [os.path.join(midi_dir, path) for path in os.listdir(midi_dir)][0:5000]\n",
    "\n",
    "num_threads = 8\n",
    "pool = ThreadPool(num_threads)\n",
    "\n",
    "# process in batches of 250\n",
    "batch_size = 100\n",
    "count = 0\n",
    "for i in range(0, len(files), batch_size):\n",
    "    print(\"batch: {}-{}\".format(i, i + batch_size))\n",
    "    parsed = pool.map(midi_utils.parse_midi, files[i: i + batch_size])\n",
    "    data = get_data_from_midi(parsed)\n",
    "    count = count + len(data[1])\n",
    "    print('{} windows per file after {} files'.format(count / (i + batch_size), i + batch_size))\n",
    "    del parsed\n",
    "    del data\n",
    "    \n",
    "print(count)"
   ]
  },
  {
   "cell_type": "code",
   "execution_count": null,
   "metadata": {
    "collapsed": false,
    "deletable": true,
    "editable": true
   },
   "outputs": [],
   "source": [
    "count"
   ]
  },
  {
   "cell_type": "code",
   "execution_count": null,
   "metadata": {
    "collapsed": true,
    "deletable": true,
    "editable": true
   },
   "outputs": [],
   "source": []
  }
 ],
 "metadata": {
  "kernelspec": {
   "display_name": "magenta-sandbox",
   "language": "python",
   "name": "magenta-sandbox"
  },
  "language_info": {
   "codemirror_mode": {
    "name": "ipython",
    "version": 2
   },
   "file_extension": ".py",
   "mimetype": "text/x-python",
   "name": "python",
   "nbconvert_exporter": "python",
   "pygments_lexer": "ipython2",
   "version": "2.7.12"
  }
 },
 "nbformat": 4,
 "nbformat_minor": 2
}
