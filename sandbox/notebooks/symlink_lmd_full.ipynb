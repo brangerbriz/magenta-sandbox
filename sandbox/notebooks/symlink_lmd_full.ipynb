{
 "cells": [
  {
   "cell_type": "code",
   "execution_count": 8,
   "metadata": {
    "collapsed": true
   },
   "outputs": [],
   "source": [
    "import os, glob, shutil"
   ]
  },
  {
   "cell_type": "code",
   "execution_count": null,
   "metadata": {
    "collapsed": true
   },
   "outputs": [],
   "source": [
    "lmd_dir = os.path.expanduser('~') + '/Documents/code/midi-dataset/data/lmd_full'\n",
    "symlink_dir = 'symlink'"
   ]
  },
  {
   "cell_type": "code",
   "execution_count": 9,
   "metadata": {
    "collapsed": false
   },
   "outputs": [],
   "source": [
    "# delete dirname if it exists\n",
    "if os.path.isdir(symlink_dir):\n",
    "    shutil.rmtree(symlink_dir)\n",
    "\n",
    "# create dirname if it doesn't exist\n",
    "if not os.path.isdir(symlink_dir):\n",
    "    os.mkdir(symlink_dir)\n",
    "\n",
    "files = glob.glob(lmd_dir + '/*/*.mid')\n",
    "for f in files:\n",
    "    os.symlink(f, os.path.join(symlink_dir, os.path.basename(f)))\n",
    "print('created {} symlinks in {}'.format(len(files), symlink_dir))"
   ]
  }
 ],
 "metadata": {
  "kernelspec": {
   "display_name": "magenta-sandbox",
   "language": "python",
   "name": "magenta-sandbox"
  },
  "language_info": {
   "codemirror_mode": {
    "name": "ipython",
    "version": 2
   },
   "file_extension": ".py",
   "mimetype": "text/x-python",
   "name": "python",
   "nbconvert_exporter": "python",
   "pygments_lexer": "ipython2",
   "version": "2.7.12"
  }
 },
 "nbformat": 4,
 "nbformat_minor": 2
}
