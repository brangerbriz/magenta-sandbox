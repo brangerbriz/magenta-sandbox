{
 "cells": [
  {
   "cell_type": "markdown",
   "metadata": {},
   "source": [
    "Remove duplicate files that exist in two directories."
   ]
  },
  {
   "cell_type": "code",
   "execution_count": 1,
   "metadata": {
    "collapsed": true
   },
   "outputs": [],
   "source": [
    "import os"
   ]
  },
  {
   "cell_type": "code",
   "execution_count": 4,
   "metadata": {
    "collapsed": true
   },
   "outputs": [],
   "source": [
    "get_dupes_from='a'\n",
    "remove_dupes_from='b'"
   ]
  },
  {
   "cell_type": "code",
   "execution_count": 7,
   "metadata": {
    "collapsed": false
   },
   "outputs": [
    {
     "name": "stdout",
     "output_type": "stream",
     "text": [
      "removed 4 files\n"
     ]
    }
   ],
   "source": [
    "dupes = os.listdir(get_dupes_from)\n",
    "remove_dupes = os.listdir(remove_dupes_from)\n",
    "count = 0\n",
    "for r in remove_dupes:\n",
    "    if r in dupes:\n",
    "        os.unlink(os.path.join(remove_dupes_from, r))\n",
    "        count = count + 1\n",
    "print('removed {} files'.format(count))"
   ]
  }
 ],
 "metadata": {
  "kernelspec": {
   "display_name": "magenta-sandbox",
   "language": "python",
   "name": "magenta-sandbox"
  },
  "language_info": {
   "codemirror_mode": {
    "name": "ipython",
    "version": 2
   },
   "file_extension": ".py",
   "mimetype": "text/x-python",
   "name": "python",
   "nbconvert_exporter": "python",
   "pygments_lexer": "ipython2",
   "version": "2.7.12"
  }
 },
 "nbformat": 4,
 "nbformat_minor": 2
}
