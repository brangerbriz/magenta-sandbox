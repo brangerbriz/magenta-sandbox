{
 "cells": [
  {
   "cell_type": "code",
   "execution_count": 1,
   "metadata": {
    "collapsed": true
   },
   "outputs": [],
   "source": [
    "import dill as pickle\n",
    "import json, pdb"
   ]
  },
  {
   "cell_type": "code",
   "execution_count": null,
   "metadata": {
    "collapsed": false
   },
   "outputs": [],
   "source": [
    "paths = ['../../data/extracted_features/lmd_matched_midi_files_features.pickle',\n",
    "         '../../data/extracted_features/lmd_0-20k_midi_files_features.pickle',\n",
    "         '../../data/extracted_features/lmd_20k-60k_midi_files_features.pickle',\n",
    "         '../../data/extracted_features/lmd_60k-110k_midi_files_features.pickle',\n",
    "         '../../data/extracted_features/lmd_110k-170k_midi_files_features.pickle', \n",
    "         '../../data/extracted_features/lmd_170k-178k_midi_files_features.pickle']\n",
    "\n",
    "def load_pickle(path):\n",
    "    with open(path, 'r') as f:\n",
    "        return pickle.load(f)\n",
    "\n",
    "arrs = map(load_pickle, paths)\n",
    "extracted_features = arrs[0] + arrs[1] + arrs[2] + arrs[3] + arrs[4] + arrs[5]\n",
    "extracted_features = [f for f in extracted_features if f is not None]"
   ]
  },
  {
   "cell_type": "code",
   "execution_count": null,
   "metadata": {
    "collapsed": false
   },
   "outputs": [],
   "source": [
    "with open('../../data/extracted_features/lmd_features.pickle', 'w') as f:\n",
    "    pickle.dump(extracted_features, f)"
   ]
  },
  {
   "cell_type": "code",
   "execution_count": null,
   "metadata": {
    "collapsed": true
   },
   "outputs": [],
   "source": []
  }
 ],
 "metadata": {
  "kernelspec": {
   "display_name": "magenta-sandbox",
   "language": "python",
   "name": "magenta-sandbox"
  },
  "language_info": {
   "codemirror_mode": {
    "name": "ipython",
    "version": 2
   },
   "file_extension": ".py",
   "mimetype": "text/x-python",
   "name": "python",
   "nbconvert_exporter": "python",
   "pygments_lexer": "ipython2",
   "version": "2.7.12"
  }
 },
 "nbformat": 4,
 "nbformat_minor": 2
}
