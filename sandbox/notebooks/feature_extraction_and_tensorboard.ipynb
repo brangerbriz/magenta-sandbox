{
 "cells": [
  {
   "cell_type": "markdown",
   "metadata": {
    "deletable": true,
    "editable": true
   },
   "source": [
    "# Feature Extraction and Unsupervised Learning with Tensorboard\n",
    "This notebook extracts features from a directory of midi files using Music21's jSymbolic feature extractors. This is a compute-heavy task and can take between 10-30 seconds per midi file. Once extraction has been performed, the results can be cached (using pickle) and dimensionality reduction/visualization can be done using tensorboard's embedding projector."
   ]
  },
  {
   "cell_type": "markdown",
   "metadata": {
    "deletable": true,
    "editable": true
   },
   "source": [
    "## Imports"
   ]
  },
  {
   "cell_type": "code",
   "execution_count": 1,
   "metadata": {
    "collapsed": false,
    "deletable": true,
    "editable": true
   },
   "outputs": [],
   "source": [
    "import time, os, csv, json, math, sys, operator\n",
    "sys.path.append('../python')\n",
    "\n",
    "import utils\n",
    "import dill as pickle\n",
    "from pprint import pprint\n",
    "from multiprocessing import Pool as ThreadPool\n",
    "import numpy as np\n",
    "import tensorflow as tf\n",
    "from tensorflow.contrib.tensorboard.plugins import projector"
   ]
  },
  {
   "cell_type": "markdown",
   "metadata": {
    "deletable": true,
    "editable": true
   },
   "source": [
    "## Extract Features\n",
    "It is recommended to run this function sparingly and cache the results with pickle below to refrain from unecessary compute."
   ]
  },
  {
   "cell_type": "code",
   "execution_count": null,
   "metadata": {
    "collapsed": false,
    "deletable": true,
    "editable": true
   },
   "outputs": [],
   "source": [
    "symlink_dir = '../../data/query_symlinks'\n",
    "\n",
    "num_threads = 8\n",
    "pool = ThreadPool(num_threads)\n",
    "\n",
    "start_time = time.time()\n",
    "extracted_features = pool.map(utils.extract_features, [os.path.join(symlink_dir, n) for n in os.listdir(symlink_dir)][0:8])\n",
    "print('Finished in {:.2f} seconds'.format(time.time() - start_time))"
   ]
  },
  {
   "cell_type": "markdown",
   "metadata": {
    "deletable": true,
    "editable": true
   },
   "source": [
    "## Save/Load cached feature extraction"
   ]
  },
  {
   "cell_type": "code",
   "execution_count": 2,
   "metadata": {
    "collapsed": false,
    "deletable": true,
    "editable": true
   },
   "outputs": [],
   "source": [
    "## save cache\n",
    "# with open('../../data/extracted_features/4000_midi_files_features.pickle', 'w') as f:\n",
    "#     pickle.dump(extracted_features, f)\n",
    "\n",
    "## load cache\n",
    "with open('../../data/extracted_features/4000_midi_files_features.pickle', 'r') as f:\n",
    "    extracted_features = pickle.load(f)\n",
    "    "
   ]
  },
  {
   "cell_type": "code",
   "execution_count": 3,
   "metadata": {
    "collapsed": false
   },
   "outputs": [],
   "source": [
    "# convert old feature extraction format\n",
    "for i, feat in enumerate(extracted_features):\n",
    "    if feat is not None:\n",
    "        assert(len(feat[0]) == 1)\n",
    "        extracted_features[i] = list(extracted_features[i]) # convert from immutable tuple\n",
    "        extracted_features[i][0] = extracted_features[i][0][0]"
   ]
  },
  {
   "cell_type": "markdown",
   "metadata": {
    "deletable": true,
    "editable": true
   },
   "source": [
    "## Load MSD Cache"
   ]
  },
  {
   "cell_type": "code",
   "execution_count": 4,
   "metadata": {
    "collapsed": false,
    "deletable": true,
    "editable": true
   },
   "outputs": [
    {
     "name": "stdout",
     "output_type": "stream",
     "text": [
      "Loaded in 11.28 seconds\n"
     ]
    }
   ],
   "source": [
    "start_time = time.time()\n",
    "with open('../../data/msd.pickle', 'r') as f:\n",
    "    msd = pickle.load(f)\n",
    "print('Loaded in {:.2f} seconds'.format(time.time() - start_time))"
   ]
  },
  {
   "cell_type": "markdown",
   "metadata": {
    "deletable": true,
    "editable": true
   },
   "source": [
    "## Tensorboard Labels/Metadata\n",
    "Create a `metadata.tsv` file to assosciate msd track metadata to data points in tensorboard."
   ]
  },
  {
   "cell_type": "code",
   "execution_count": 5,
   "metadata": {
    "collapsed": false,
    "deletable": true,
    "editable": true
   },
   "outputs": [],
   "source": [
    "LOG_DIR='../../data/tmp_logdir'\n",
    "with open(os.path.expanduser('~') + '/Documents/code/midi-dataset/data/match_scores.json', 'r') as f:\n",
    "    match_scores = json.load(f)"
   ]
  },
  {
   "cell_type": "code",
   "execution_count": 6,
   "metadata": {
    "collapsed": false,
    "deletable": true,
    "editable": true
   },
   "outputs": [],
   "source": [
    "def get_mid_to_track(match_scores):\n",
    "    mid_to_track = {}\n",
    "    for k, vals in match_scores.items():\n",
    "        for v in vals:\n",
    "            if not v in mid_to_track:\n",
    "                mid_to_track[v] = {\n",
    "                    'track': k,\n",
    "                    'confidence': match_scores[k][v]\n",
    "                }\n",
    "            # if the new confidence score is higher than the last\n",
    "            # update the track it points to\n",
    "            elif match_scores[k][v] > mid_to_track[v]['confidence']:\n",
    "                mid_to_track[v]['track'] = k\n",
    "    return mid_to_track\n",
    "\n",
    "def get_track_to_msd(msd):\n",
    "    return { m['track_id']: m for m in msd }\n",
    "\n",
    "def save_features_to_tsv(filename, features, mid_to_track, track_to_msd):\n",
    "    with open(filename, 'w') as csvfile:\n",
    "        \n",
    "        fieldnames = ['path', \n",
    "                      'song_year',\n",
    "                      'song_title',\n",
    "                      'song_time_signature',\n",
    "                      'song_tempo',\n",
    "                      'song_key',\n",
    "                      'song_mode',\n",
    "                      'song_loudness',\n",
    "                      'song_energy',\n",
    "                      'song_duration',\n",
    "                      'song_danceability',\n",
    "                      'song_hotttnesss',\n",
    "                      'artist_name',\n",
    "                      'artist_terms',\n",
    "                      'artist_mbtags',\n",
    "                      'artist_hotttnesss',\n",
    "                      'artist_location']\n",
    "\n",
    "        writer = csv.DictWriter(csvfile, delimiter='\\t', fieldnames=fieldnames)\n",
    "\n",
    "        writer.writeheader()\n",
    "        for f in extracted_features:\n",
    "            if f is not None:\n",
    "                path = f[1][-1]\n",
    "                basename = os.path.basename(path)[0:-4]\n",
    "                if basename in mid_to_track:\n",
    "                    track = mid_to_track[basename]['track']\n",
    "                    d = {k: v for k, v in track_to_msd[track].items() if k in fieldnames}\n",
    "                    for k, v in d.items():\n",
    "                        if isinstance(v, np.ndarray):\n",
    "                            d[k] = v.tolist()[0] if len(v.tolist()) > 0 else ''#','.join(v.tolist())\n",
    "                        try:\n",
    "                            f = float(v)\n",
    "                            if math.isnan(v):\n",
    "                                d[k] = 0.0\n",
    "                        except:\n",
    "                            pass\n",
    "                    writer.writerow(d)                     \n",
    "\n",
    "mid_to_track = utils.get_midi_to_track_lut() #get_mid_to_track(match_scores)\n",
    "track_to_msd = get_track_to_msd(msd)\n",
    "tsv = save_features_to_tsv(os.path.join(LOG_DIR, 'metadata.tsv'), extracted_features, mid_to_track, track_to_msd)"
   ]
  },
  {
   "cell_type": "markdown",
   "metadata": {
    "deletable": true,
    "editable": true
   },
   "source": [
    "## Analyze and remove unnecessary features\n",
    "Clean up the results from the music21 feature extraction."
   ]
  },
  {
   "cell_type": "code",
   "execution_count": null,
   "metadata": {
    "collapsed": false,
    "deletable": true,
    "editable": true
   },
   "outputs": [],
   "source": [
    "# vec = []\n",
    "# for f in extracted_features:\n",
    "#     if f is not None:\n",
    "#         arr = f[0]\n",
    "#         arr.pop(0) # first element is an empty string\n",
    "#         arr.pop(-1) # last element is an empty string\n",
    "#         vec.append(np.array(arr))\n",
    "# embeddings = np.asarray(vec)\n",
    "# print(embeddings[0])"
   ]
  },
  {
   "cell_type": "code",
   "execution_count": 7,
   "metadata": {
    "collapsed": false
   },
   "outputs": [],
   "source": [
    "# removes (in-place) features that have non-zero values less\n",
    "# than percent_threshold\n",
    "def remove_weak_features(extracted_features, min_percent_of_tracks_with_feature=0.05):\n",
    "    feat_labels = { k: 0 for k in extracted_features[0][1] }\n",
    "    for track in extracted_features:\n",
    "        if track is not None:\n",
    "            assert(len(track[1]) == len(track[0]))\n",
    "            # for each feature label in the track\n",
    "            for i, label in enumerate(track[1]):\n",
    "                # if the corresponding feature value is not zero\n",
    "                if track[0][i] != 0:\n",
    "                    # increment its count in our dict\n",
    "                    feat_labels[label] = feat_labels[label] + 1\n",
    "    sorted_x = sorted(feat_labels.items(), key=operator.itemgetter(1), reverse=True)\n",
    "    # keep only the features that at least 10%\n",
    "    # of all tracks have a non-zero value for\n",
    "    min_percent_of_tracks_with_feature = 0.05\n",
    "    min_count = math.ceil(len(extracted_features) * min_percent_of_tracks_with_feature)\n",
    "    feats_to_remove = [k for k, v in feat_labels.iteritems() if v < min_count]\n",
    "    indicies_to_remove = [extracted_features[0][1].index(x) for x in feats_to_remove]\n",
    "    print('Removed {}/{} features, or {:.2f}%. New feature size is {}.'\n",
    "              .format(len(indicies_to_remove), \n",
    "                      len(feat_labels.keys()), \n",
    "                      float(len(indicies_to_remove))/float(len(feat_labels.keys())),\n",
    "                      len(feat_labels.keys()) - len(indicies_to_remove)))\n",
    "    for track in extracted_features:\n",
    "        if track is not None:\n",
    "            track[1] = [i for j, i in enumerate(track[1]) if j not in indicies_to_remove]\n",
    "            track[0] = [i for j, i in enumerate(track[0]) if j not in indicies_to_remove]"
   ]
  },
  {
   "cell_type": "code",
   "execution_count": 8,
   "metadata": {
    "collapsed": false
   },
   "outputs": [
    {
     "name": "stdout",
     "output_type": "stream",
     "text": [
      "Removed 152/309 features, or 0.49%. New feature size is 157.\n"
     ]
    }
   ],
   "source": [
    "# remove the Identifier and Path key => value pairs from\n",
    "# the extracted features\n",
    "# WARNING: the Path is required to create the tensorboard\n",
    "# embeddings metadata, so don't run this before creating\n",
    "# those embeddings\n",
    "for track in extracted_features:\n",
    "    if track is not None:\n",
    "        track[0].pop(0)\n",
    "        track[0].pop(-1)\n",
    "        track[1].pop(0)\n",
    "        track[1].pop(-1)\n",
    "        \n",
    "remove_weak_features(extracted_features)"
   ]
  },
  {
   "cell_type": "markdown",
   "metadata": {
    "deletable": true,
    "editable": true
   },
   "source": [
    "## Tensorboard Embeddings\n",
    "Expose the embeddings to be used tensorboard."
   ]
  },
  {
   "cell_type": "code",
   "execution_count": 9,
   "metadata": {
    "collapsed": false,
    "deletable": true,
    "editable": true
   },
   "outputs": [
    {
     "name": "stdout",
     "output_type": "stream",
     "text": [
      "WARNING:tensorflow:From <ipython-input-9-4db25d024fed>:7 in <module>.: __init__ (from tensorflow.python.training.summary_io) is deprecated and will be removed after 2016-11-30.\n",
      "Instructions for updating:\n",
      "Please switch to tf.summary.FileWriter. The interface and behavior is the same; this is just a rename.\n"
     ]
    },
    {
     "data": {
      "text/plain": [
       "'../../data/tmp_logdir/model.ckpt-0'"
      ]
     },
     "execution_count": 9,
     "metadata": {},
     "output_type": "execute_result"
    }
   ],
   "source": [
    "sess = tf.Session()\n",
    "embeddings = np.asarray([x[0] for x in extracted_features if x is not None])\n",
    "# create embeddings var\n",
    "emb = tf.Variable(embeddings, name='embeddings')\n",
    "\n",
    "# embedding projector\n",
    "summary_writer = tf.train.SummaryWriter(LOG_DIR)\n",
    "config = projector.ProjectorConfig()\n",
    "embedding = config.embeddings.add()\n",
    "embedding.tensor_name = emb.name\n",
    "embedding.metadata_path = os.path.join(LOG_DIR, 'metadata.tsv')\n",
    "projector.visualize_embeddings(summary_writer, config)\n",
    "\n",
    "# init and run the session\n",
    "init = tf.global_variables_initializer()\n",
    "sess.run(init)\n",
    "\n",
    "# save checkpoint\n",
    "saver = tf.train.Saver()\n",
    "saver.save(sess, os.path.join(LOG_DIR, \"model.ckpt\"), 0)"
   ]
  },
  {
   "cell_type": "code",
   "execution_count": null,
   "metadata": {
    "collapsed": true
   },
   "outputs": [],
   "source": []
  }
 ],
 "metadata": {
  "kernelspec": {
   "display_name": "magenta-sandbox",
   "language": "python",
   "name": "magenta-sandbox"
  },
  "language_info": {
   "codemirror_mode": {
    "name": "ipython",
    "version": 2
   },
   "file_extension": ".py",
   "mimetype": "text/x-python",
   "name": "python",
   "nbconvert_exporter": "python",
   "pygments_lexer": "ipython2",
   "version": "2.7.12"
  }
 },
 "nbformat": 4,
 "nbformat_minor": 2
}
