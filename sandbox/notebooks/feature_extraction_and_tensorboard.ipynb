{
 "cells": [
  {
   "cell_type": "markdown",
   "metadata": {
    "deletable": true,
    "editable": true
   },
   "source": [
    "# Feature Extraction and Unsupervised Learning with Tensorboard\n",
    "This notebook extracts features from a directory of midi files using Music21's jSymbolic feature extractors. This is a compute-heavy task and can take between 10-30 seconds per midi file. Once extraction has been performed, the results can be cached (using pickle) and dimensionality reduction/visualization can be done using tensorboard's embedding projector."
   ]
  },
  {
   "cell_type": "markdown",
   "metadata": {
    "deletable": true,
    "editable": true
   },
   "source": [
    "## Imports"
   ]
  },
  {
   "cell_type": "code",
   "execution_count": 2,
   "metadata": {
    "collapsed": false,
    "deletable": true,
    "editable": true
   },
   "outputs": [],
   "source": [
    "import time, os, csv, json, math, sys\n",
    "sys.path.append('../python')\n",
    "\n",
    "import utils\n",
    "import dill as pickle\n",
    "from multiprocessing import Pool as ThreadPool\n",
    "import numpy as np\n",
    "import tensorflow as tf\n",
    "from tensorflow.contrib.tensorboard.plugins import projector"
   ]
  },
  {
   "cell_type": "markdown",
   "metadata": {
    "deletable": true,
    "editable": true
   },
   "source": [
    "## Extract Features\n",
    "It is recommended to run this function sparingly and cache the results with pickle below to refrain from unecessary compute."
   ]
  },
  {
   "cell_type": "code",
   "execution_count": null,
   "metadata": {
    "collapsed": false,
    "deletable": true,
    "editable": true
   },
   "outputs": [],
   "source": [
    "symlink_dir = '../../data/query_symlinks'\n",
    "\n",
    "num_threads = 8\n",
    "pool = ThreadPool(num_threads)\n",
    "\n",
    "start_time = time.time()\n",
    "extracted_features = pool.map(utils.extract_features, [os.path.join(symlink_dir, n) for n in os.listdir(symlink_dir)])\n",
    "print('Finished in {:.2f} seconds'.format(time.time() - start_time))"
   ]
  },
  {
   "cell_type": "markdown",
   "metadata": {
    "deletable": true,
    "editable": true
   },
   "source": [
    "## Save/Load cached feature extraction"
   ]
  },
  {
   "cell_type": "code",
   "execution_count": 3,
   "metadata": {
    "collapsed": false,
    "deletable": true,
    "editable": true
   },
   "outputs": [],
   "source": [
    "## save cache\n",
    "# with open('../../data/extracted_features/4000_midi_files_features.pickle', 'w') as f:\n",
    "#     pickle.dump(extracted_features, f)\n",
    "\n",
    "## load cache\n",
    "with open('../../data/extracted_features/4000_midi_files_features.pickle', 'r') as f:\n",
    "    extracted_features = pickle.load(f)"
   ]
  },
  {
   "cell_type": "markdown",
   "metadata": {
    "deletable": true,
    "editable": true
   },
   "source": [
    "## Load MSD Cache"
   ]
  },
  {
   "cell_type": "code",
   "execution_count": 4,
   "metadata": {
    "collapsed": false,
    "deletable": true,
    "editable": true
   },
   "outputs": [
    {
     "name": "stdout",
     "output_type": "stream",
     "text": [
      "Loaded in 10.63 seconds\n"
     ]
    }
   ],
   "source": [
    "start_time = time.time()\n",
    "with open('../../data/msd.pickle', 'r') as f:\n",
    "    msd = pickle.load(f)\n",
    "print('Loaded in {:.2f} seconds'.format(time.time() - start_time))"
   ]
  },
  {
   "cell_type": "markdown",
   "metadata": {
    "deletable": true,
    "editable": true
   },
   "source": [
    "## Analyze and remove unnecessary features\n",
    "Clean up the results from the music21 feature extraction."
   ]
  },
  {
   "cell_type": "code",
   "execution_count": 5,
   "metadata": {
    "collapsed": true,
    "deletable": true,
    "editable": true
   },
   "outputs": [],
   "source": [
    "vec = []\n",
    "for f in extracted_features:\n",
    "    if f is not None:\n",
    "        arr = f[0][0]\n",
    "        arr.pop(0) # first element is an empty string\n",
    "        arr.pop(-1) # last element is an empty string\n",
    "        vec.append(np.array(arr))\n",
    "embeddings = np.asarray(vec)"
   ]
  },
  {
   "cell_type": "code",
   "execution_count": null,
   "metadata": {
    "collapsed": false,
    "deletable": true,
    "editable": true
   },
   "outputs": [],
   "source": [
    "# summed = np.sum(embeddings, axis=0)\n",
    "# for i, n in enumerate(extracted_features[0][1][1:-1]):\n",
    "#     print('{}:     {}'.format(n, summed[i]))"
   ]
  },
  {
   "cell_type": "markdown",
   "metadata": {
    "deletable": true,
    "editable": true
   },
   "source": [
    "## Tensorboard Labels/Metadata\n",
    "Create a `metadata.tsv` file to assosciate msd track metadata to data points in tensorboard."
   ]
  },
  {
   "cell_type": "code",
   "execution_count": 7,
   "metadata": {
    "collapsed": false,
    "deletable": true,
    "editable": true
   },
   "outputs": [],
   "source": [
    "LOG_DIR='../../data/embedding_logdir'\n",
    "with open(os.path.expanduser('~') + '/Documents/code/midi-dataset/data/match_scores.json', 'r') as f:\n",
    "    match_scores = json.load(f)"
   ]
  },
  {
   "cell_type": "code",
   "execution_count": 8,
   "metadata": {
    "collapsed": false,
    "deletable": true,
    "editable": true
   },
   "outputs": [],
   "source": [
    "def get_mid_to_track(match_scores):\n",
    "    mid_to_track = {}\n",
    "    for k, vals in match_scores.items():\n",
    "        for v in vals:\n",
    "            if not v in mid_to_track:\n",
    "                mid_to_track[v] = {\n",
    "                    'track': k,\n",
    "                    'confidence': match_scores[k][v]\n",
    "                }\n",
    "            # if the new confidence score is higher than the last\n",
    "            # update the track it points to\n",
    "            elif match_scores[k][v] > mid_to_track[v]['confidence']:\n",
    "                mid_to_track[v]['track'] = k\n",
    "    return mid_to_track\n",
    "\n",
    "def get_track_to_msd(msd):\n",
    "    return { m['track_id']: m for m in msd }\n",
    "\n",
    "def save_features_to_tsv(filename, features, mid_to_track, track_to_msd):\n",
    "    with open(filename, 'w') as csvfile:\n",
    "        \n",
    "        fieldnames = ['path', \n",
    "                      'song_year',\n",
    "                      'song_title',\n",
    "                      'song_time_signature',\n",
    "                      'song_tempo',\n",
    "                      'song_key',\n",
    "                      'song_mode',\n",
    "                      'song_loudness',\n",
    "                      'song_energy',\n",
    "                      'song_duration',\n",
    "                      'song_danceability',\n",
    "                      'song_hotttnesss',\n",
    "                      'artist_name',\n",
    "                      'artist_terms',\n",
    "                      'artist_mbtags',\n",
    "                      'artist_hotttnesss',\n",
    "                      'artist_location']\n",
    "\n",
    "        writer = csv.DictWriter(csvfile, delimiter='\\t', fieldnames=fieldnames)\n",
    "\n",
    "        writer.writeheader()\n",
    "        for f in extracted_features:\n",
    "            if f is not None:\n",
    "                path = f[1][-1]\n",
    "                basename = os.path.basename(path)[0:-4]\n",
    "                if basename in mid_to_track:\n",
    "                    track = mid_to_track[basename]['track']\n",
    "                    d = {k: v for k, v in track_to_msd[track].items() if k in fieldnames}\n",
    "                    for k, v in d.items():\n",
    "                        if isinstance(v, np.ndarray):\n",
    "                            d[k] = v.tolist()[0] if len(v.tolist()) > 0 else ''#','.join(v.tolist())\n",
    "                        try:\n",
    "                            f = float(v)\n",
    "                            if math.isnan(v):\n",
    "                                d[k] = 0.0\n",
    "                        except:\n",
    "                            pass\n",
    "                    writer.writerow(d)                     \n",
    "\n",
    "mid_to_track = utils.get_midi_to_track_lut() #get_mid_to_track(match_scores)\n",
    "track_to_msd = get_track_to_msd(msd)\n",
    "tsv = save_features_to_tsv(os.path.join(LOG_DIR, 'metadata.tsv'), extracted_features, mid_to_track, track_to_msd)"
   ]
  },
  {
   "cell_type": "markdown",
   "metadata": {
    "deletable": true,
    "editable": true
   },
   "source": [
    "## Tensorboard Embeddings\n",
    "Expose the embeddings to be used tensorboard."
   ]
  },
  {
   "cell_type": "code",
   "execution_count": null,
   "metadata": {
    "collapsed": false,
    "deletable": true,
    "editable": true
   },
   "outputs": [],
   "source": [
    "sess = tf.Session()\n",
    "\n",
    "# create embeddings var\n",
    "emb = tf.Variable(embeddings, name='embeddings')\n",
    "\n",
    "# embedding projector\n",
    "summary_writer = tf.train.SummaryWriter(LOG_DIR)\n",
    "config = projector.ProjectorConfig()\n",
    "embedding = config.embeddings.add()\n",
    "embedding.tensor_name = emb.name\n",
    "embedding.metadata_path = os.path.join(LOG_DIR, 'metadata.tsv')\n",
    "projector.visualize_embeddings(summary_writer, config)\n",
    "\n",
    "# init and run the session\n",
    "init = tf.global_variables_initializer()\n",
    "sess.run(init)\n",
    "\n",
    "# save checkpoint\n",
    "saver = tf.train.Saver()\n",
    "saver.save(sess, os.path.join(LOG_DIR, \"model.ckpt\"), 0)"
   ]
  }
 ],
 "metadata": {
  "kernelspec": {
   "display_name": "magenta-sandbox",
   "language": "python",
   "name": "magenta-sandbox"
  },
  "language_info": {
   "codemirror_mode": {
    "name": "ipython",
    "version": 2
   },
   "file_extension": ".py",
   "mimetype": "text/x-python",
   "name": "python",
   "nbconvert_exporter": "python",
   "pygments_lexer": "ipython2",
   "version": "2.7.12"
  }
 },
 "nbformat": 4,
 "nbformat_minor": 2
}
