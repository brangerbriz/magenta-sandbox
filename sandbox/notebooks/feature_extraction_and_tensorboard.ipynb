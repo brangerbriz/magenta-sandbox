{
 "cells": [
  {
   "cell_type": "markdown",
   "metadata": {},
   "source": [
    "## Imports"
   ]
  },
  {
   "cell_type": "code",
   "execution_count": 1,
   "metadata": {
    "collapsed": true,
    "deletable": true,
    "editable": true
   },
   "outputs": [],
   "source": [
    "import time, os, csv, json\n",
    "from music21 import *\n",
    "import dill as pickle\n",
    "from multiprocessing import Pool as ThreadPool\n",
    "import numpy as np\n",
    "import tensorflow as tf\n",
    "from tensorflow.contrib.tensorboard.plugins import projector"
   ]
  },
  {
   "cell_type": "markdown",
   "metadata": {},
   "source": [
    "## Extract Features"
   ]
  },
  {
   "cell_type": "code",
   "execution_count": null,
   "metadata": {
    "collapsed": false,
    "deletable": true,
    "editable": true
   },
   "outputs": [],
   "source": [
    "def extract_features(midi_path):\n",
    "\n",
    "    try:\n",
    "        s = converter.parse(midi_path)\n",
    "    except:\n",
    "        return None\n",
    "    \n",
    "    # for a description of features, see section 5 of the jSymbolic paper\n",
    "    # http://jmir.sourceforge.net/publications/MA_Thesis_2004_Bodhidharma.pdf\n",
    "    feats = [\n",
    "        # instrument features-----------------------------------\n",
    "#         features.jSymbolic.PitchedInstrumentsPresentFeature,\n",
    "#         features.jSymbolic.NotePrevalenceOfPitchedInstrumentsFeature,\n",
    "        features.jSymbolic.NumberOfPitchedInstrumentsFeature,\n",
    "        features.jSymbolic.StringKeyboardFractionFeature,\n",
    "        features.jSymbolic.AcousticGuitarFractionFeature,\n",
    "        features.jSymbolic.ElectricGuitarFractionFeature,\n",
    "        features.jSymbolic.ViolinFractionFeature,\n",
    "        features.jSymbolic.SaxophoneFractionFeature,\n",
    "        features.jSymbolic.BrassFractionFeature,\n",
    "        features.jSymbolic.WoodwindsFractionFeature,\n",
    "        features.jSymbolic.OrchestralStringsFractionFeature,\n",
    "        features.jSymbolic.StringEnsembleFractionFeature,\n",
    "        features.jSymbolic.ElectricInstrumentFractionFeature,\n",
    "        # rythm features----------------------------------------\n",
    "        features.jSymbolic.InitialTempoFeature,\n",
    "        features.jSymbolic.InitialTimeSignatureFeature,\n",
    "        features.jSymbolic.NoteDensityFeature,\n",
    "        features.jSymbolic.AverageNoteDurationFeature,\n",
    "        features.jSymbolic.AverageTimeBetweenAttacksFeature,\n",
    "        features.jSymbolic.VariabilityOfTimeBetweenAttacksFeature,\n",
    "        features.jSymbolic.AverageTimeBetweenAttacksForEachVoiceFeature,\n",
    "        features.jSymbolic.AverageVariabilityOfTimeBetweenAttacksForEachVoiceFeature,\n",
    "        features.jSymbolic.ChangesOfMeterFeature,\n",
    "        features.jSymbolic.MaximumNoteDurationFeature,\n",
    "        features.jSymbolic.MinimumNoteDurationFeature,\n",
    "        # pitch statistics features-----------------------------\n",
    "        features.jSymbolic.MostCommonPitchPrevalenceFeature,\n",
    "        features.jSymbolic.MostCommonPitchClassPrevalenceFeature,\n",
    "        features.jSymbolic.PitchVarietyFeature,\n",
    "        features.jSymbolic.PitchClassVarietyFeature,\n",
    "        features.jSymbolic.RangeFeature,\n",
    "        features.jSymbolic.ImportanceOfBassRegisterFeature,\n",
    "        features.jSymbolic.ImportanceOfMiddleRegisterFeature,\n",
    "        features.jSymbolic.ImportanceOfHighRegisterFeature,\n",
    "        features.jSymbolic.MelodicIntervalHistogramFeature,\n",
    "        features.jSymbolic.BasicPitchHistogramFeature,\n",
    "        features.jSymbolic.PitchClassDistributionFeature,\n",
    "        features.jSymbolic.QualityFeature, # mode\n",
    "#         features.jSymbolic.GlissandoPrevalenceFeature,\n",
    "#         features.jSymbolic.VibratoPrevalenceFeature,\n",
    "        # melody features---------------------------------------\n",
    "        features.jSymbolic.MelodicIntervalHistogramFeature,\n",
    "        features.jSymbolic.AmountOfArpeggiationFeature,\n",
    "        features.jSymbolic.RepeatedNotesFeature,\n",
    "        features.jSymbolic.ChromaticMotionFeature,\n",
    "        features.jSymbolic.StepwiseMotionFeature,\n",
    "        features.jSymbolic.MelodicThirdsFeature,\n",
    "        features.jSymbolic.MelodicFifthsFeature,\n",
    "        features.jSymbolic.MelodicTritonesFeature,\n",
    "        features.jSymbolic.MelodicOctavesFeature,\n",
    "        features.jSymbolic.DirectionOfMotionFeature\n",
    "    ]\n",
    "    \n",
    "    ds = features.DataSet(classLabel=midi_path)\n",
    "    ds.addData(s)\n",
    "    ds.addFeatureExtractors(feats)\n",
    "    ds.process()\n",
    "    return (ds.getFeaturesAsList(), ds.getAttributeLabels())\n",
    "        \n",
    "symlink_dir = '../../data/query_symlinks'\n",
    "\n",
    "num_threads = 8\n",
    "pool = ThreadPool(num_threads)\n",
    "\n",
    "start_time = time.time()\n",
    "extracted_features = pool.map(extract_features, [os.path.join(symlink_dir, n) for n in os.listdir(symlink_dir)])\n",
    "print('Finished in {:.2f} seconds'.format(time.time() - start_time))"
   ]
  },
  {
   "cell_type": "markdown",
   "metadata": {},
   "source": [
    "## Save/Load cached feature extraction"
   ]
  },
  {
   "cell_type": "code",
   "execution_count": 2,
   "metadata": {
    "collapsed": true
   },
   "outputs": [],
   "source": [
    "## save cache\n",
    "# with open('1000_midi_files_features.pickle', 'w') as f:\n",
    "#     pickle.dump(f, extracted_features)\n",
    "\n",
    "## load cache\n",
    "with open('1000_midi_files_features.pickle', 'r') as f:\n",
    "    extracted_features = pickle.load(f)"
   ]
  },
  {
   "cell_type": "markdown",
   "metadata": {},
   "source": [
    "## Load MSD Cache"
   ]
  },
  {
   "cell_type": "code",
   "execution_count": 3,
   "metadata": {
    "collapsed": false
   },
   "outputs": [
    {
     "name": "stdout",
     "output_type": "stream",
     "text": [
      "Loaded in 10.58 seconds\n"
     ]
    }
   ],
   "source": [
    "start_time = time.time()\n",
    "with open('../../data/msd.pickle', 'r') as f:\n",
    "    msd = pickle.load(f)\n",
    "print('Loaded in {:.2f} seconds'.format(time.time() - start_time))"
   ]
  },
  {
   "cell_type": "markdown",
   "metadata": {},
   "source": [
    "## Analyze and remove unnecessary features"
   ]
  },
  {
   "cell_type": "code",
   "execution_count": 4,
   "metadata": {
    "collapsed": true
   },
   "outputs": [],
   "source": [
    "vec = []\n",
    "for f in extracted_features:\n",
    "    if f is not None:\n",
    "        arr = f[0][0]\n",
    "        arr.pop(0) # first element is an empty string\n",
    "        arr.pop(-1) # last element is an empty string\n",
    "        vec.append(np.array(arr))"
   ]
  },
  {
   "cell_type": "code",
   "execution_count": 5,
   "metadata": {
    "collapsed": true
   },
   "outputs": [],
   "source": [
    "embeddings = np.asarray(vec)\n",
    "# summed = np.sum(embeddings, axis=0)\n",
    "# for i, n in enumerate(results[0][1][1:-1]):\n",
    "#     print('{}:     {}'.format(n, summed[i]))"
   ]
  },
  {
   "cell_type": "markdown",
   "metadata": {},
   "source": [
    "## Tensorboard Labels/Metadata"
   ]
  },
  {
   "cell_type": "code",
   "execution_count": 6,
   "metadata": {
    "collapsed": false
   },
   "outputs": [],
   "source": [
    "LOG_DIR='../../data/embedding_logdir'\n",
    "with open('/home/bbpwn2/Documents/code/midi-dataset/data/match_scores.json', 'r') as f:\n",
    "    match_scores = json.load(f)"
   ]
  },
  {
   "cell_type": "code",
   "execution_count": 7,
   "metadata": {
    "collapsed": false
   },
   "outputs": [],
   "source": [
    "def get_mid_to_track(match_scores):\n",
    "    mid_to_track = {}\n",
    "    for k, vals in match_scores.items():\n",
    "        for v in vals:\n",
    "            if not v in mid_to_track:\n",
    "                mid_to_track[v] = {\n",
    "                    'track': k,\n",
    "                    'confidence': match_scores[k][v]\n",
    "                }\n",
    "            # if the new confidence score is higher than the last\n",
    "            # update the track it points to\n",
    "            elif match_scores[k][v] > mid_to_track[v]['confidence']:\n",
    "                mid_to_track[v]['track'] = k\n",
    "    return mid_to_track\n",
    "\n",
    "def get_track_to_msd(msd):\n",
    "    return { m['track_id']: m for m in msd }\n",
    "\n",
    "def save_features_to_tsv(filename, features, mid_to_track, track_to_msd):\n",
    "    with open(filename, 'w') as csvfile:\n",
    "        \n",
    "        fieldnames = ['path', \n",
    "                      'song_year',\n",
    "                      'song_title',\n",
    "                      'song_time_signature',\n",
    "                      'song_tempo',\n",
    "                      'song_key',\n",
    "                      'song_mode',\n",
    "                      'song_loudness',\n",
    "                      'song_energy',\n",
    "                      'song_duration',\n",
    "                      'song_danceability',\n",
    "                      'song_hotttnesss',\n",
    "                      'artist_name',\n",
    "                      'artist_terms',\n",
    "                      'artist_mbtags',\n",
    "                      'artist_hotttnesss',\n",
    "                      'artist_location']\n",
    "\n",
    "        writer = csv.DictWriter(csvfile, delimiter='\\t', fieldnames=fieldnames)\n",
    "\n",
    "        writer.writeheader()\n",
    "        for f in extracted_features:\n",
    "            if f is not None:\n",
    "                path = f[1][-1]\n",
    "                basename = os.path.basename(path)[0:-4]\n",
    "                if basename in mid_to_track:\n",
    "                    track = mid_to_track[basename]['track']\n",
    "                    d = {k: v for k, v in track_to_msd[track].items() if k in fieldnames}\n",
    "                    for k, v in d.items():\n",
    "                        if isinstance(v, np.ndarray):\n",
    "                            d[k] = ','.join(v.tolist())\n",
    "                    writer.writerow(d)                     \n",
    "\n",
    "mid_to_track = get_mid_to_track(match_scores)\n",
    "track_to_msd = get_track_to_msd(msd)\n",
    "tsv = save_features_to_tsv(os.path.join(LOG_DIR, 'metadata.tsv'), extracted_features, mid_to_track, track_to_msd)"
   ]
  },
  {
   "cell_type": "markdown",
   "metadata": {},
   "source": [
    "## Tensorboard Embeddings"
   ]
  },
  {
   "cell_type": "code",
   "execution_count": 8,
   "metadata": {
    "collapsed": false
   },
   "outputs": [
    {
     "name": "stdout",
     "output_type": "stream",
     "text": [
      "WARNING:tensorflow:From <ipython-input-8-dfb87837a9ff>:8 in <module>.: __init__ (from tensorflow.python.training.summary_io) is deprecated and will be removed after 2016-11-30.\n",
      "Instructions for updating:\n",
      "Please switch to tf.summary.FileWriter. The interface and behavior is the same; this is just a rename.\n"
     ]
    },
    {
     "data": {
      "text/plain": [
       "'../../data/embedding_logdir/model.ckpt-0'"
      ]
     },
     "execution_count": 8,
     "metadata": {},
     "output_type": "execute_result"
    }
   ],
   "source": [
    "\n",
    "sess = tf.Session()\n",
    "\n",
    "# create embeddings var\n",
    "emb = tf.Variable(embeddings, name='embeddings')\n",
    "\n",
    "# embedding projector\n",
    "summary_writer = tf.train.SummaryWriter(LOG_DIR)\n",
    "config = projector.ProjectorConfig()\n",
    "embedding = config.embeddings.add()\n",
    "embedding.tensor_name = emb.name\n",
    "embedding.metadata_path = os.path.join(LOG_DIR, 'metadata.tsv')\n",
    "projector.visualize_embeddings(summary_writer, config)\n",
    "\n",
    "# init and run the session\n",
    "init = tf.global_variables_initializer()\n",
    "sess.run(init)\n",
    "\n",
    "# save checkpoint\n",
    "saver = tf.train.Saver()\n",
    "saver.save(sess, os.path.join(LOG_DIR, \"model.ckpt\"), 0)"
   ]
  },
  {
   "cell_type": "code",
   "execution_count": null,
   "metadata": {
    "collapsed": false,
    "deletable": true,
    "editable": true
   },
   "outputs": [],
   "source": [
    "# def histogram(vec):\n",
    "#     hist = {}\n",
    "#     for v in vec:\n",
    "#         if not v in hist:\n",
    "#             hist[v] = 0\n",
    "#         hist[v] = hist[v] + 1\n",
    "#     return [(k, v) for k, v in hist.items()]"
   ]
  }
 ],
 "metadata": {
  "kernelspec": {
   "display_name": "magenta-sandbox",
   "language": "python",
   "name": "magenta-sandbox"
  },
  "language_info": {
   "codemirror_mode": {
    "name": "ipython",
    "version": 2
   },
   "file_extension": ".py",
   "mimetype": "text/x-python",
   "name": "python",
   "nbconvert_exporter": "python",
   "pygments_lexer": "ipython2",
   "version": "2.7.12"
  }
 },
 "nbformat": 4,
 "nbformat_minor": 2
}
