{
 "cells": [
  {
   "cell_type": "markdown",
   "metadata": {},
   "source": [
    "# Nearest Neighbor Searchs\n",
    "Find the closest `k` tracks to an lakh midi file or a generated track."
   ]
  },
  {
   "cell_type": "markdown",
   "metadata": {},
   "source": [
    "## Imports"
   ]
  },
  {
   "cell_type": "code",
   "execution_count": 1,
   "metadata": {
    "collapsed": true,
    "deletable": true,
    "editable": true
   },
   "outputs": [],
   "source": [
    "import sys\n",
    "sys.path.append('../python')\n",
    "\n",
    "import utils\n",
    "from sklearn.neighbors import NearestNeighbors\n",
    "import dill as pickle"
   ]
  },
  {
   "cell_type": "markdown",
   "metadata": {},
   "source": [
    "## Load Cached Feature Vectors\n",
    "Create these pickles with [`feature_extraction_and_tensorboard.ipynb`](feature_extraction_and_tensorboard.ipynb)."
   ]
  },
  {
   "cell_type": "code",
   "execution_count": 2,
   "metadata": {
    "collapsed": true,
    "deletable": true,
    "editable": true
   },
   "outputs": [],
   "source": [
    "with open('../../data/extracted_features/5000_midi_files_features.pickle', 'r') as f:\n",
    "    extracted_features = pickle.load(f)"
   ]
  },
  {
   "cell_type": "markdown",
   "metadata": {},
   "source": [
    "## Preprocess"
   ]
  },
  {
   "cell_type": "code",
   "execution_count": 3,
   "metadata": {
    "collapsed": false,
    "deletable": true,
    "editable": true
   },
   "outputs": [
    {
     "name": "stdout",
     "output_type": "stream",
     "text": [
      "Removed 159/309 features, or 0.51%. New feature size is 150.\n"
     ]
    }
   ],
   "source": [
    "y = [y[1][-1] for y in extracted_features if y is not None]\n",
    "\n",
    "# remove the Identifier and Path key => value pairs from\n",
    "# the extracted features\n",
    "# WARNING: the Path is required to create the tensorboard\n",
    "# embeddings metadata, so don't run this before creating\n",
    "# those embeddings\n",
    "for track in extracted_features:\n",
    "    if track is not None:\n",
    "        track[0].pop(0)\n",
    "        track[0].pop(-1)\n",
    "        track[1].pop(0)\n",
    "        track[1].pop(-1)\n",
    "        \n",
    "utils.remove_weak_features(extracted_features)\n",
    "X = [x[0] for x in extracted_features if x is not None]"
   ]
  },
  {
   "cell_type": "markdown",
   "metadata": {},
   "source": [
    "## K-Nearest Neighbor search"
   ]
  },
  {
   "cell_type": "code",
   "execution_count": 34,
   "metadata": {
    "collapsed": false,
    "deletable": true,
    "editable": true
   },
   "outputs": [
    {
     "name": "stdout",
     "output_type": "stream",
     "text": [
      "Searching for neighbors of ../../data/query_symlinks/7146fbbc7625e75754c6d941202870b7.mid\n"
     ]
    },
    {
     "name": "stderr",
     "output_type": "stream",
     "text": [
      "/home/bbpwn2/Documents/code/magenta-sandbox/venv/local/lib/python2.7/site-packages/sklearn/utils/validation.py:395: DeprecationWarning: Passing 1d arrays as data is deprecated in 0.17 and will raise ValueError in 0.19. Reshape your data either using X.reshape(-1, 1) if your data has a single feature or X.reshape(1, -1) if it contains a single sample.\n",
      "  DeprecationWarning)\n"
     ]
    },
    {
     "name": "stdout",
     "output_type": "stream",
     "text": [
      "../../data/query_symlinks/7146fbbc7625e75754c6d941202870b7.mid: 3.33066907388e-16\n",
      "../../data/query_symlinks/83194988dc6863bd784229b29e407d27.mid: 0.000200211039588\n",
      "../../data/query_symlinks/d2aae597614e9642720dde2bd1758740.mid: 0.000305069928611\n",
      "../../data/query_symlinks/6705f4ec006de1576a779bcdfa26655d.mid: 0.000348761257416\n",
      "../../data/query_symlinks/87c7a38e0daf9f36e0204471627851cf.mid: 0.000359723777012\n"
     ]
    }
   ],
   "source": [
    "knn = NearestNeighbors(n_jobs=8, algorithm='brute', metric='cosine')\n",
    "knn.fit(X, y)\n",
    "\n",
    "track_index = 0\n",
    "print('Searching for neighbors of {}'.format(y[track_index]))\n",
    "dists, indicies = knn.kneighbors(X[track_index])\n",
    "i = 0\n",
    "for index in indicies[0]:\n",
    "    print('{}: {}'.format(y[index], dists[0][i]))\n",
    "    i = i + 1"
   ]
  },
  {
   "cell_type": "code",
   "execution_count": null,
   "metadata": {
    "collapsed": true,
    "deletable": true,
    "editable": true
   },
   "outputs": [],
   "source": []
  }
 ],
 "metadata": {
  "kernelspec": {
   "display_name": "magenta-sandbox",
   "language": "python",
   "name": "magenta-sandbox"
  },
  "language_info": {
   "codemirror_mode": {
    "name": "ipython",
    "version": 2
   },
   "file_extension": ".py",
   "mimetype": "text/x-python",
   "name": "python",
   "nbconvert_exporter": "python",
   "pygments_lexer": "ipython2",
   "version": "2.7.12"
  }
 },
 "nbformat": 4,
 "nbformat_minor": 2
}
