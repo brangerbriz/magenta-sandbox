{
 "cells": [
  {
   "cell_type": "markdown",
   "metadata": {
    "deletable": true,
    "editable": true
   },
   "source": [
    "# Visualize Million Song Dataset\n",
    "\n",
    "If you have not already done so, make sure to run `cache_msd.ipynb` to cache msd to `msd.pickle` before running this notebook."
   ]
  },
  {
   "cell_type": "markdown",
   "metadata": {
    "deletable": true,
    "editable": true
   },
   "source": [
    "## Imports"
   ]
  },
  {
   "cell_type": "code",
   "execution_count": 2,
   "metadata": {
    "collapsed": false,
    "deletable": true,
    "editable": true
   },
   "outputs": [],
   "source": [
    "import dill as pickle\n",
    "import operator\n",
    "import time\n",
    "import matplotlib.pyplot as plt\n",
    "from matplotlib.axes import Axes as ax"
   ]
  },
  {
   "cell_type": "markdown",
   "metadata": {
    "deletable": true,
    "editable": true
   },
   "source": [
    "## Utils"
   ]
  },
  {
   "cell_type": "code",
   "execution_count": 3,
   "metadata": {
    "collapsed": false,
    "deletable": true,
    "editable": true
   },
   "outputs": [],
   "source": [
    "def get_array_freq(msd, field='artist_terms'):\n",
    "    freqs = {}\n",
    "    for s in msd:\n",
    "        for t in s[field]:\n",
    "            if t not in freqs:\n",
    "                freqs[t] = 0\n",
    "            freqs[t] = freqs[t] + 1\n",
    "    return freqs\n",
    "    \n",
    "def get_freq(msd, field):\n",
    "    years = {}\n",
    "    for s in msd:\n",
    "        if s[field] not in years:\n",
    "            years[s[field]] = 0\n",
    "        years[s[field]] = years[s[field]] + 1\n",
    "    return years"
   ]
  },
  {
   "cell_type": "markdown",
   "metadata": {
    "deletable": true,
    "editable": true
   },
   "source": [
    "## Load cached data"
   ]
  },
  {
   "cell_type": "code",
   "execution_count": 4,
   "metadata": {
    "collapsed": false,
    "deletable": true,
    "editable": true
   },
   "outputs": [
    {
     "name": "stdout",
     "output_type": "stream",
     "text": [
      "Loaded in 10.46 seconds\n"
     ]
    }
   ],
   "source": [
    "start_time = time.time()\n",
    "with open('../../data/msd.pickle', 'r') as f:\n",
    "    msd = pickle.load(f)\n",
    "print('Loaded in {:.2f} seconds'.format(time.time() - start_time))"
   ]
  },
  {
   "cell_type": "markdown",
   "metadata": {
    "collapsed": true,
    "deletable": true,
    "editable": true
   },
   "source": [
    "## Plotting"
   ]
  },
  {
   "cell_type": "code",
   "execution_count": 4,
   "metadata": {
    "collapsed": false,
    "deletable": true,
    "editable": true
   },
   "outputs": [],
   "source": [
    "year_freq = get_freq(msd, 'song_year')\n",
    "key_freq = get_freq(msd,  'song_key')\n",
    "terms_freq = get_array_freq(msd, 'artist_terms')\n",
    "mbtags_freq = get_array_freq(msd, 'artist_mbtags')\n",
    "\n",
    "# above dict items can be sorted into a list of tuples later with\n",
    "# sorted_terms_freq = sorted(terms_freq.items(), key=operator.itemgetter(1))"
   ]
  },
  {
   "cell_type": "code",
   "execution_count": 5,
   "metadata": {
    "collapsed": false,
    "deletable": true,
    "editable": true
   },
   "outputs": [],
   "source": [
    "sorted_terms_freq = sorted(terms_freq.items(), key=operator.itemgetter(1), reverse=True)[:100]\n",
    "sorted_mbtags_freq = sorted(mbtags_freq.items(), key=operator.itemgetter(1), reverse=True)[:100]\n",
    "sorted_key_freq = sorted(key_freq.items(), key=operator.itemgetter(1), reverse=True)\n",
    "# sorted_year_freq = sorted(year_freq.items(), key=operator.itemgetter(1), reverse=True)"
   ]
  },
  {
   "cell_type": "code",
   "execution_count": 6,
   "metadata": {
    "collapsed": false,
    "deletable": true,
    "editable": true
   },
   "outputs": [
    {
     "data": {
      "image/png": "[encoded data removed]",
      "text/plain": [
       "<matplotlib.figure.Figure at 0x7f8a06407fd0>"
      ]
     },
     "metadata": {},
     "output_type": "display_data"
    }
   ],
   "source": [
    "plt.rcParams[\"figure.figsize\"] = (12, 8)\n",
    "\n",
    "plt.bar(range(0, len(sorted_terms_freq)), \n",
    "        [y for x, y in sorted_terms_freq], \n",
    "        align='edge', width=1.0, color='blue')\n",
    "plt.title('Terms Frequency')\n",
    "plt.ylabel('Frequency')\n",
    "plt.xlabel('Terms')\n",
    "plt.show()"
   ]
  },
  {
   "cell_type": "code",
   "execution_count": 7,
   "metadata": {
    "collapsed": false,
    "deletable": true,
    "editable": true
   },
   "outputs": [
    {
     "name": "stdout",
     "output_type": "stream",
     "text": [
      "  1. rock                 22846\n",
      "  2. pop                  22548\n",
      "  3. electronic           17167\n",
      "  4. pop rock             11864\n",
      "  5. jazz                 11403\n",
      "  6. alternative rock     9892\n",
      "  7. ballad               9823\n",
      "  8. hip hop              9816\n",
      "  9. soul                 9607\n",
      " 10. disco                9572\n",
      " 11. vocal                8980\n",
      " 12. classic rock         8821\n",
      " 13. house                8772\n",
      " 14. alternative          8517\n",
      " 15. folk                 8445\n",
      " 16. united states        8343\n",
      " 17. soundtrack           8059\n",
      " 18. soft rock            7827\n",
      " 19. country              7705\n",
      " 20. electro              7688\n",
      " 21. synthpop             7295\n",
      " 22. funk                 7263\n",
      " 23. techno               7219\n",
      " 24. blues                7024\n",
      " 25. germany              6924\n",
      " 26. downtempo            6852\n",
      " 27. easy listening       6849\n",
      " 28. 80s                  6681\n",
      " 29. indie                6669\n",
      " 30. acoustic             6313\n",
      " 31. guitar               6296\n",
      " 32. classic              6238\n",
      " 33. trance               6049\n",
      " 34. singer-songwriter    5984\n",
      " 35. female vocalist      5967\n",
      " 36. dance                5883\n",
      " 37. punk                 5868\n",
      " 38. american             5583\n",
      " 39. electronica          5557\n",
      " 40. new wave             5497\n",
      " 41. hard rock            5491\n",
      " 42. instrumental         5467\n",
      " 43. reggae               5440\n",
      " 44. europop              5417\n",
      " 45. world                5345\n",
      " 46. indie rock           5300\n",
      " 47. oldies               5193\n",
      " 48. latin                5156\n",
      " 49. ambient              5149\n",
      " 50. male vocalist        5147\n"
     ]
    }
   ],
   "source": [
    "for i, v in list(enumerate(sorted_terms_freq))[:50]:\n",
    "    print('{}. {} {}'.format(str(i + 1).rjust(3), v[0].ljust(20), v[1]))"
   ]
  },
  {
   "cell_type": "code",
   "execution_count": 8,
   "metadata": {
    "collapsed": false,
    "deletable": true,
    "editable": true
   },
   "outputs": [
    {
     "data": {
      "image/png": "[encoded data removed]",
      "text/plain": [
       "<matplotlib.figure.Figure at 0x7f8a190a7bd0>"
      ]
     },
     "metadata": {},
     "output_type": "display_data"
    }
   ],
   "source": [
    "plt.bar(range(0, len(sorted_mbtags_freq)), \n",
    "        [y for x, y in sorted_mbtags_freq], \n",
    "        align='edge', width=1.0, color='green')\n",
    "plt.title('Mbtags Frequency')\n",
    "plt.ylabel('Frequency')\n",
    "plt.xlabel('Mbtabs')\n",
    "plt.show()"
   ]
  },
  {
   "cell_type": "code",
   "execution_count": 9,
   "metadata": {
    "collapsed": false,
    "deletable": true,
    "editable": true
   },
   "outputs": [
    {
     "name": "stdout",
     "output_type": "stream",
     "text": [
      "  1. classic pop and rock        4009\n",
      "  2. rock                        3445\n",
      "  3. american                    2854\n",
      "  4. british                     2750\n",
      "  5. uk                          2445\n",
      "  6. pop                         2392\n",
      "  7. english                     2116\n",
      "  8. pop and chart               1509\n",
      "  9. rock and indie              1486\n",
      " 10. electronic                  952\n",
      " 11. alternative rock            889\n",
      " 12. european                    813\n",
      " 13. folk                        791\n",
      " 14. usa                         728\n",
      " 15. german                      633\n",
      " 16. hard rock                   631\n",
      " 17. classical                   593\n",
      " 18. metal                       578\n",
      " 19. country                     557\n",
      " 20. french                      554\n",
      " 21. américain                  548\n",
      " 22. pop rock                    529\n",
      " 23. rnb                         474\n",
      " 24. hip hop rnb and dance hall  414\n",
      " 25. new wave                    410\n",
      " 26. jazz                        402\n",
      " 27. united states               391\n",
      " 28. punk                        387\n",
      " 29. progressive rock            383\n",
      " 30. britannique                 377\n",
      " 31. italian                     353\n",
      " 32. canadian                    340\n",
      " 33. dance and electronica       330\n",
      " 34. heavy metal                 325\n",
      " 35. production music            322\n",
      " 36. 80s                         320\n",
      " 37. soul                        317\n",
      " 38. irish                       305\n",
      " 39. alternative                 300\n",
      " 40. soft rock                   297\n",
      " 41. dance                       294\n",
      " 42. disco                       267\n",
      " 43. synthpop                    266\n",
      " 44. adult contemporary          259\n",
      " 45. electronica                 250\n",
      " 46. composer                    249\n",
      " 47. blues rock                  244\n",
      " 48. easy listening soundtracks and musicals 240\n",
      " 49. 90s                         231\n",
      " 50. soul and reggae             231\n"
     ]
    }
   ],
   "source": [
    "for i, v in list(enumerate(sorted_mbtags_freq))[:50]:\n",
    "    print('{}. {} {}'.format(str(i + 1).rjust(3), v[0].ljust(27), v[1]))"
   ]
  },
  {
   "cell_type": "code",
   "execution_count": 10,
   "metadata": {
    "collapsed": false,
    "deletable": true,
    "editable": true
   },
   "outputs": [
    {
     "data": {
      "image/png": "[encoded data removed]",
      "text/plain": [
       "<matplotlib.figure.Figure at 0x7f8a13e128d0>"
      ]
     },
     "metadata": {},
     "output_type": "display_data"
    }
   ],
   "source": [
    "year_freq.pop(0, None)\n",
    "plt.plot(list(year_freq.keys()), list(year_freq.values()), \n",
    "         color='orange')\n",
    "plt.title('Songs by Year')\n",
    "plt.ylabel('Songs')\n",
    "plt.xlabel('Year')\n",
    "plt.show()"
   ]
  },
  {
   "cell_type": "code",
   "execution_count": 11,
   "metadata": {
    "collapsed": false,
    "deletable": true,
    "editable": true
   },
   "outputs": [
    {
     "data": {
      "image/png": "[encoded data removed]",
      "text/plain": [
       "<matplotlib.figure.Figure at 0x7f8a065313d0>"
      ]
     },
     "metadata": {},
     "output_type": "display_data"
    }
   ],
   "source": [
    "plt.bar(range(0, len(sorted_key_freq)), \n",
    "        [y for x, y in sorted_key_freq], \n",
    "        align='edge', width=1.0)\n",
    "plt.title('Key Frequency')\n",
    "plt.ylabel('Frequency')\n",
    "plt.xlabel('Key')\n",
    "plt.legend([x for x, y in sorted_key_freq])\n",
    "plt.show()"
   ]
  }
 ],
 "metadata": {
  "kernelspec": {
   "display_name": "magenta-sandbox",
   "language": "python",
   "name": "magenta-sandbox"
  },
  "language_info": {
   "codemirror_mode": {
    "name": "ipython",
    "version": 2
   },
   "file_extension": ".py",
   "mimetype": "text/x-python",
   "name": "python",
   "nbconvert_exporter": "python",
   "pygments_lexer": "ipython2",
   "version": "2.7.12"
  }
 },
 "nbformat": 4,
 "nbformat_minor": 2
}
